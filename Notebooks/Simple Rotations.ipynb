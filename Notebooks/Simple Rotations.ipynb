{
 "cells": [
  {
   "cell_type": "code",
   "execution_count": 1,
   "metadata": {},
   "outputs": [],
   "source": [
    "from miscpy.utils.sympyhelpers import *\n",
    "init_printing()\n",
    "th,n1,n2,n3 = symbols('theta,n_1,n_2,n_3')"
   ]
  },
  {
   "cell_type": "markdown",
   "metadata": {},
   "source": [
    "# Simple Rotations"
   ]
  },
  {
   "cell_type": "markdown",
   "metadata": {},
   "source": [
    "## Example 1: Rotation about 3rd body axis"
   ]
  },
  {
   "cell_type": "markdown",
   "metadata": {},
   "source": [
    "$\\mathbf{\\hat{n}} = \\mathbf{a}_3 = \\mathbf{b}_3$"
   ]
  },
  {
   "cell_type": "code",
   "execution_count": 5,
   "metadata": {},
   "outputs": [
    {
     "data": {
      "image/png": "[encoded data removed]",
      "text/latex": [
       "$$\\left[\\begin{matrix}0\\\\0\\\\1\\end{matrix}\\right]$$"
      ],
      "text/plain": [
       "⎡0⎤\n",
       "⎢ ⎥\n",
       "⎢0⎥\n",
       "⎢ ⎥\n",
       "⎣1⎦"
      ]
     },
     "execution_count": 5,
     "metadata": {},
     "output_type": "execute_result"
    }
   ],
   "source": [
    "n = Matrix([0,0,1]);n"
   ]
  },
  {
   "cell_type": "markdown",
   "metadata": {},
   "source": [
    "${}^\\mathcal{A}C^\\mathcal{B} = \\cos\\theta I + (1 - \\cos\\theta) [\\mathbf{\\hat{n}}][\\mathbf{\\hat{n}}]^T + \\sin\\theta [\\mathbf{\\hat{n}}\\times]$:"
   ]
  },
  {
   "cell_type": "code",
   "execution_count": 9,
   "metadata": {},
   "outputs": [
    {
     "data": {
      "image/png": "[encoded data removed]",
      "text/latex": [
       "$$\\left[\\begin{matrix}\\cos{\\left (\\theta \\right )} & - \\sin{\\left (\\theta \\right )} & 0\\\\\\sin{\\left (\\theta \\right )} & \\cos{\\left (\\theta \\right )} & 0\\\\0 & 0 & 1\\end{matrix}\\right]$$"
      ],
      "text/plain": [
       "⎡cos(θ)  -sin(θ)  0⎤\n",
       "⎢                  ⎥\n",
       "⎢sin(θ)  cos(θ)   0⎥\n",
       "⎢                  ⎥\n",
       "⎣  0        0     1⎦"
      ]
     },
     "execution_count": 9,
     "metadata": {},
     "output_type": "execute_result"
    }
   ],
   "source": [
    "aCb = cos(th)*eye(3) + (1 - cos(th))*(n*n.T) + sin(th)*skew(n); aCb"
   ]
  },
  {
   "cell_type": "markdown",
   "metadata": {},
   "source": [
    "As a sanity check, show that ${}^\\mathcal{B}C^\\mathcal{A} [\\mathbf{\\hat{n}}] = [\\mathbf{\\hat{n}}]$"
   ]
  },
  {
   "cell_type": "code",
   "execution_count": 8,
   "metadata": {},
   "outputs": [
    {
     "data": {
      "image/png": "[encoded data removed]",
      "text/latex": [
       "$$\\left[\\begin{matrix}0\\\\0\\\\1\\end{matrix}\\right]$$"
      ],
      "text/plain": [
       "⎡0⎤\n",
       "⎢ ⎥\n",
       "⎢0⎥\n",
       "⎢ ⎥\n",
       "⎣1⎦"
      ]
     },
     "execution_count": 8,
     "metadata": {},
     "output_type": "execute_result"
    }
   ],
   "source": [
    "aCb.T*n"
   ]
  },
  {
   "cell_type": "markdown",
   "metadata": {},
   "source": [
    "## Example 2: Rotating about $1 \\mathbf{b}_1 + 2 \\mathbf{b}_2 + 3 \\mathbf{b}_3$"
   ]
  },
  {
   "cell_type": "code",
   "execution_count": 10,
   "metadata": {},
   "outputs": [
    {
     "data": {
      "image/png": "[encoded data removed]",
      "text/latex": [
       "$$\\left[\\begin{matrix}\\frac{\\sqrt{14}}{14}\\\\\\frac{\\sqrt{14}}{7}\\\\\\frac{3 \\sqrt{14}}{14}\\end{matrix}\\right]$$"
      ],
      "text/plain": [
       "⎡ √14 ⎤\n",
       "⎢ ─── ⎥\n",
       "⎢  14 ⎥\n",
       "⎢     ⎥\n",
       "⎢ √14 ⎥\n",
       "⎢ ─── ⎥\n",
       "⎢  7  ⎥\n",
       "⎢     ⎥\n",
       "⎢3⋅√14⎥\n",
       "⎢─────⎥\n",
       "⎣  14 ⎦"
      ]
     },
     "execution_count": 10,
     "metadata": {},
     "output_type": "execute_result"
    }
   ],
   "source": [
    "n2 = Matrix([1,2,3])\n",
    "n2 = n2/n2.norm()\n",
    "n2"
   ]
  },
  {
   "cell_type": "code",
   "execution_count": 11,
   "metadata": {},
   "outputs": [
    {
     "data": {
      "image/png": "[encoded data removed]",
      "text/latex": [
       "$$\\left[\\begin{matrix}\\frac{13 \\cos{\\left (\\theta \\right )}}{14} + \\frac{1}{14} & - \\frac{3 \\sqrt{14} \\sin{\\left (\\theta \\right )}}{14} - \\frac{\\cos{\\left (\\theta \\right )}}{7} + \\frac{1}{7} & \\frac{\\sqrt{14} \\sin{\\left (\\theta \\right )}}{7} - \\frac{3 \\cos{\\left (\\theta \\right )}}{14} + \\frac{3}{14}\\\\\\frac{3 \\sqrt{14} \\sin{\\left (\\theta \\right )}}{14} - \\frac{\\cos{\\left (\\theta \\right )}}{7} + \\frac{1}{7} & \\frac{5 \\cos{\\left (\\theta \\right )}}{7} + \\frac{2}{7} & - \\frac{\\sqrt{14} \\sin{\\left (\\theta \\right )}}{14} - \\frac{3 \\cos{\\left (\\theta \\right )}}{7} + \\frac{3}{7}\\\\- \\frac{\\sqrt{14} \\sin{\\left (\\theta \\right )}}{7} - \\frac{3 \\cos{\\left (\\theta \\right )}}{14} + \\frac{3}{14} & \\frac{\\sqrt{14} \\sin{\\left (\\theta \\right )}}{14} - \\frac{3 \\cos{\\left (\\theta \\right )}}{7} + \\frac{3}{7} & \\frac{5 \\cos{\\left (\\theta \\right )}}{14} + \\frac{9}{14}\\end{matrix}\\right]$$"
      ],
      "text/plain": [
       "⎡       13⋅cos(θ)   1            3⋅√14⋅sin(θ)   cos(θ)   1  √14⋅sin(θ)   3⋅cos\n",
       "⎢       ───────── + ──         - ──────────── - ────── + ─  ────────── - ─────\n",
       "⎢           14      14                14          7      7      7           14\n",
       "⎢                                                                             \n",
       "⎢ 3⋅√14⋅sin(θ)   cos(θ)   1           5⋅cos(θ)   2            √14⋅sin(θ)   3⋅c\n",
       "⎢ ──────────── - ────── + ─           ──────── + ─          - ────────── - ───\n",
       "⎢      14          7      7              7       7                14          \n",
       "⎢                                                                             \n",
       "⎢  √14⋅sin(θ)   3⋅cos(θ)   3    √14⋅sin(θ)   3⋅cos(θ)   3          5⋅cos(θ)   \n",
       "⎢- ────────── - ──────── + ──   ────────── - ──────── + ─          ──────── + \n",
       "⎣      7           14      14       14          7       7             14      \n",
       "\n",
       "(θ)   3  ⎤\n",
       "─── + ── ⎥\n",
       "      14 ⎥\n",
       "         ⎥\n",
       "os(θ)   3⎥\n",
       "───── + ─⎥\n",
       "7       7⎥\n",
       "         ⎥\n",
       "9        ⎥\n",
       "──       ⎥\n",
       "14       ⎦"
      ]
     },
     "execution_count": 11,
     "metadata": {},
     "output_type": "execute_result"
    }
   ],
   "source": [
    "aCb2 = cos(th)*(eye(3) - n2*n2.T)+ n2*n2.T + sin(th)*skew(n2); aCb2"
   ]
  },
  {
   "cell_type": "code",
   "execution_count": 13,
   "metadata": {},
   "outputs": [
    {
     "data": {
      "image/png": "[encoded data removed]",
      "text/latex": [
       "$$\\left[\\begin{matrix}0\\\\0\\\\0\\end{matrix}\\right]$$"
      ],
      "text/plain": [
       "⎡0⎤\n",
       "⎢ ⎥\n",
       "⎢0⎥\n",
       "⎢ ⎥\n",
       "⎣0⎦"
      ]
     },
     "execution_count": 13,
     "metadata": {},
     "output_type": "execute_result"
    }
   ],
   "source": [
    "simplify(aCb2.T*n2 - n2)"
   ]
  },
  {
   "cell_type": "code",
   "execution_count": 17,
   "metadata": {},
   "outputs": [
    {
     "data": {
      "image/png": "[encoded data removed]",
      "text/latex": [
       "$$\\left[\\begin{matrix}0\\\\0\\\\0\\end{matrix}\\right]$$"
      ],
      "text/plain": [
       "⎡0⎤\n",
       "⎢ ⎥\n",
       "⎢0⎥\n",
       "⎢ ⎥\n",
       "⎣0⎦"
      ]
     },
     "execution_count": 17,
     "metadata": {},
     "output_type": "execute_result"
    }
   ],
   "source": [
    "simplify(aCb2*n2 - n2)"
   ]
  },
  {
   "cell_type": "code",
   "execution_count": null,
   "metadata": {
    "collapsed": true
   },
   "outputs": [],
   "source": []
  },
  {
   "cell_type": "markdown",
   "metadata": {
    "collapsed": true
   },
   "source": [
    "## Example 3: Rotating about aribtary axis $n_1 \\mathbf{b}_1 + n_2 \\mathbf{b}_2 + n_3 \\mathbf{b}_3$"
   ]
  },
  {
   "cell_type": "code",
   "execution_count": 18,
   "metadata": {},
   "outputs": [],
   "source": [
    "n1,n2,n3 = symbols('n_1,n_2,n_3')"
   ]
  },
  {
   "cell_type": "code",
   "execution_count": 19,
   "metadata": {},
   "outputs": [
    {
     "data": {
      "image/png": "[encoded data removed]",
      "text/latex": [
       "$$\\left[\\begin{matrix}n_{1}\\\\n_{2}\\\\n_{3}\\end{matrix}\\right]$$"
      ],
      "text/plain": [
       "⎡n₁⎤\n",
       "⎢  ⎥\n",
       "⎢n₂⎥\n",
       "⎢  ⎥\n",
       "⎣n₃⎦"
      ]
     },
     "execution_count": 19,
     "metadata": {},
     "output_type": "execute_result"
    }
   ],
   "source": [
    "ng = Matrix([n1,n2,n3]);ng"
   ]
  },
  {
   "cell_type": "code",
   "execution_count": 20,
   "metadata": {},
   "outputs": [
    {
     "data": {
      "image/png": "[encoded data removed]",
      "text/latex": [
       "$$\\left[\\begin{matrix}n_{1}^{2} \\left(- \\cos{\\left (\\theta \\right )} + 1\\right) + \\cos{\\left (\\theta \\right )} & - n_{1} n_{2} \\left(\\cos{\\left (\\theta \\right )} - 1\\right) - n_{3} \\sin{\\left (\\theta \\right )} & - n_{1} n_{3} \\left(\\cos{\\left (\\theta \\right )} - 1\\right) + n_{2} \\sin{\\left (\\theta \\right )}\\\\- n_{1} n_{2} \\left(\\cos{\\left (\\theta \\right )} - 1\\right) + n_{3} \\sin{\\left (\\theta \\right )} & n_{2}^{2} \\left(- \\cos{\\left (\\theta \\right )} + 1\\right) + \\cos{\\left (\\theta \\right )} & - n_{1} \\sin{\\left (\\theta \\right )} - n_{2} n_{3} \\left(\\cos{\\left (\\theta \\right )} - 1\\right)\\\\- n_{1} n_{3} \\left(\\cos{\\left (\\theta \\right )} - 1\\right) - n_{2} \\sin{\\left (\\theta \\right )} & n_{1} \\sin{\\left (\\theta \\right )} - n_{2} n_{3} \\left(\\cos{\\left (\\theta \\right )} - 1\\right) & n_{3}^{2} \\left(- \\cos{\\left (\\theta \\right )} + 1\\right) + \\cos{\\left (\\theta \\right )}\\end{matrix}\\right]$$"
      ],
      "text/plain": [
       "⎡    2                                                                        \n",
       "⎢  n₁ ⋅(-cos(θ) + 1) + cos(θ)     -n₁⋅n₂⋅(cos(θ) - 1) - n₃⋅sin(θ)  -n₁⋅n₃⋅(cos\n",
       "⎢                                                                             \n",
       "⎢                                     2                                       \n",
       "⎢-n₁⋅n₂⋅(cos(θ) - 1) + n₃⋅sin(θ)    n₂ ⋅(-cos(θ) + 1) + cos(θ)     -n₁⋅sin(θ) \n",
       "⎢                                                                             \n",
       "⎢                                                                      2      \n",
       "⎣-n₁⋅n₃⋅(cos(θ) - 1) - n₂⋅sin(θ)  n₁⋅sin(θ) - n₂⋅n₃⋅(cos(θ) - 1)     n₃ ⋅(-cos\n",
       "\n",
       "                    ⎤\n",
       "(θ) - 1) + n₂⋅sin(θ)⎥\n",
       "                    ⎥\n",
       "                    ⎥\n",
       "- n₂⋅n₃⋅(cos(θ) - 1)⎥\n",
       "                    ⎥\n",
       "                    ⎥\n",
       "(θ) + 1) + cos(θ)   ⎦"
      ]
     },
     "execution_count": 20,
     "metadata": {},
     "output_type": "execute_result"
    }
   ],
   "source": [
    "aCbg = simplify(cos(th)*eye(3) + (1 - cos(th))*(ng*ng.T) + sin(th)*skew(ng)); aCbg"
   ]
  },
  {
   "cell_type": "code",
   "execution_count": null,
   "metadata": {
    "collapsed": true
   },
   "outputs": [],
   "source": []
  }
 ],
 "metadata": {
  "kernelspec": {
   "display_name": "Python 2",
   "language": "python",
   "name": "python2"
  },
  "language_info": {
   "codemirror_mode": {
    "name": "ipython",
    "version": 2
   },
   "file_extension": ".py",
   "mimetype": "text/x-python",
   "name": "python",
   "nbconvert_exporter": "python",
   "pygments_lexer": "ipython2",
   "version": "2.7.15"
  }
 },
 "nbformat": 4,
 "nbformat_minor": 1
}
