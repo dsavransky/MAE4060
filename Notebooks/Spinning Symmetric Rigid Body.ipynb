{
 "cells": [
  {
   "cell_type": "markdown",
   "metadata": {},
   "source": [
    "# Dynamics of a Spinning Symmetric Rigid Body"
   ]
  },
  {
   "cell_type": "code",
   "execution_count": 1,
   "metadata": {},
   "outputs": [],
   "source": [
    "from miscpy.utils.sympyhelpers import *\n",
    "init_printing()\n",
    "th,psi,thd,psidd,thdd,psidd,Omega,I1,I2,t,M1,C = \\\n",
    "symbols('theta,psi,thetadot,psidot,thetaddot,psiddot,Omega,I_1,I_2,t,M_1,C')\n",
    "diffmap = {th:thd,psi:psid,thd:thdd,psid:psidd}"
   ]
  },
  {
   "cell_type": "markdown",
   "metadata": {},
   "source": [
    "![spinning symmetric rigid body](img/ssrb.png)"
   ]
  },
  {
   "cell_type": "markdown",
   "metadata": {},
   "source": [
    "Spinning Symmetric Rigid Body setup:  The body's orientation in inertial frame $\\mathcal I$ is described by a 3-1-2 $(\\psi,\\theta,\\phi)$ rotation:  the body is rotated by angle $\\psi$ about $\\mathbf e_3$ (creating intermediate frame $\\mathcal A$), by an angle $\\theta$ about $\\mathbf a_1$ (creating intermediate frame $\\mathcal B$), and finally spinning about $\\mathbf b_2 \\equiv \\mathbf c_2$ at a rate $\\Omega \\equiv \\dot\\phi$, creating body-fixed frame $\\mathcal C$. Note that while the body fixed frame is $\\mathcal C$, all computations here are performed in $\\mathcal B$ frame components."
   ]
  },
  {
   "cell_type": "markdown",
   "metadata": {},
   "source": [
    "${}^\\mathcal{B}C^\\mathcal{A}$:"
   ]
  },
  {
   "cell_type": "code",
   "execution_count": 2,
   "metadata": {},
   "outputs": [
    {
     "data": {
      "image/png": "[encoded data removed]",
      "text/latex": [
       "$$\\left[\\begin{matrix}1 & 0 & 0\\\\0 & \\cos{\\left (\\theta \\right )} & \\sin{\\left (\\theta \\right )}\\\\0 & - \\sin{\\left (\\theta \\right )} & \\cos{\\left (\\theta \\right )}\\end{matrix}\\right]$$"
      ],
      "text/plain": [
       "⎡1     0       0   ⎤\n",
       "⎢                  ⎥\n",
       "⎢0  cos(θ)   sin(θ)⎥\n",
       "⎢                  ⎥\n",
       "⎣0  -sin(θ)  cos(θ)⎦"
      ]
     },
     "execution_count": 2,
     "metadata": {},
     "output_type": "execute_result"
    }
   ],
   "source": [
    "bCa = rotMat(1,th);bCa"
   ]
  },
  {
   "cell_type": "markdown",
   "metadata": {},
   "source": [
    "$\\left[{}^\\mathcal{I}\\boldsymbol{\\omega}^\\mathcal{B}\\right]_\\mathcal{B}$:"
   ]
  },
  {
   "cell_type": "code",
   "execution_count": 3,
   "metadata": {},
   "outputs": [
    {
     "data": {
      "image/png": "[encoded data removed]",
      "text/latex": [
       "$$\\left[\\begin{matrix}\\dot{\\theta}\\\\\\dot{\\psi} \\sin{\\left (\\theta \\right )}\\\\\\dot{\\psi} \\cos{\\left (\\theta \\right )}\\end{matrix}\\right]$$"
      ],
      "text/plain": [
       "⎡   θ̇    ⎤\n",
       "⎢         ⎥\n",
       "⎢ψ̇⋅sin(θ)⎥\n",
       "⎢         ⎥\n",
       "⎣ψ̇⋅cos(θ)⎦"
      ]
     },
     "execution_count": 3,
     "metadata": {},
     "output_type": "execute_result"
    }
   ],
   "source": [
    "iWb_B = bCa*Matrix([0,0,psid])+ Matrix([thd,0,0]); iWb_B"
   ]
  },
  {
   "cell_type": "markdown",
   "metadata": {},
   "source": [
    "${}^\\mathcal{I}\\boldsymbol{\\omega}^\\mathcal{C} = {}^\\mathcal{I}\\boldsymbol{\\omega}^\\mathcal{B} + {}^\\mathcal{B}\\boldsymbol{\\omega}^\\mathcal{C}$. \n",
    "\n",
    "$\\left[{}^\\mathcal{I}\\boldsymbol{\\omega}^\\mathcal{C}\\right]_\\mathcal{B}$:"
   ]
  },
  {
   "cell_type": "code",
   "execution_count": 4,
   "metadata": {},
   "outputs": [
    {
     "data": {
      "image/png": "[encoded data removed]",
      "text/latex": [
       "$$\\left[\\begin{matrix}\\dot{\\theta}\\\\\\Omega + \\dot{\\psi} \\sin{\\left (\\theta \\right )}\\\\\\dot{\\psi} \\cos{\\left (\\theta \\right )}\\end{matrix}\\right]$$"
      ],
      "text/plain": [
       "⎡     θ̇      ⎤\n",
       "⎢             ⎥\n",
       "⎢Ω + ψ̇⋅sin(θ)⎥\n",
       "⎢             ⎥\n",
       "⎣  ψ̇⋅cos(θ)  ⎦"
      ]
     },
     "execution_count": 4,
     "metadata": {},
     "output_type": "execute_result"
    }
   ],
   "source": [
    "iWc_B = iWb_B +Matrix([0,Omega,0]); iWc_B"
   ]
  },
  {
   "cell_type": "markdown",
   "metadata": {},
   "source": [
    "$\\left[ \\mathbb I_G \\right]_\\mathcal B$:"
   ]
  },
  {
   "cell_type": "code",
   "execution_count": 5,
   "metadata": {},
   "outputs": [
    {
     "data": {
      "image/png": "[encoded data removed]",
      "text/latex": [
       "$$\\left[\\begin{matrix}I_{1} & 0 & 0\\\\0 & I_{2} & 0\\\\0 & 0 & I_{1}\\end{matrix}\\right]$$"
      ],
      "text/plain": [
       "⎡I₁  0   0 ⎤\n",
       "⎢          ⎥\n",
       "⎢0   I₂  0 ⎥\n",
       "⎢          ⎥\n",
       "⎣0   0   I₁⎦"
      ]
     },
     "execution_count": 5,
     "metadata": {},
     "output_type": "execute_result"
    }
   ],
   "source": [
    "IG_B = diag(I1,I2,I1);IG_B"
   ]
  },
  {
   "cell_type": "markdown",
   "metadata": {},
   "source": [
    "$\\left[{}^\\mathcal{I} \\mathbf h_G\\right]_\\mathcal{B}$:"
   ]
  },
  {
   "cell_type": "code",
   "execution_count": 6,
   "metadata": {},
   "outputs": [
    {
     "data": {
      "image/png": "[encoded data removed]",
      "text/latex": [
       "$$\\left[\\begin{matrix}I_{1} \\dot{\\theta}\\\\I_{2} \\left(\\Omega + \\dot{\\psi} \\sin{\\left (\\theta \\right )}\\right)\\\\I_{1} \\dot{\\psi} \\cos{\\left (\\theta \\right )}\\end{matrix}\\right]$$"
      ],
      "text/plain": [
       "⎡      I₁⋅θ̇       ⎤\n",
       "⎢                  ⎥\n",
       "⎢I₂⋅(Ω + ψ̇⋅sin(θ))⎥\n",
       "⎢                  ⎥\n",
       "⎣   I₁⋅ψ̇⋅cos(θ)   ⎦"
      ]
     },
     "execution_count": 6,
     "metadata": {},
     "output_type": "execute_result"
    }
   ],
   "source": [
    "hG_B = IG_B*iWc_B; hG_B"
   ]
  },
  {
   "cell_type": "markdown",
   "metadata": {},
   "source": [
    "$\\vphantom{\\frac{\\mathrm{d}}{\\mathrm{d}t}}^\\mathcal{I}\\frac{\\mathrm{d}}{\\mathrm{d}t}  {}^\\mathcal{I} \\mathbf h_G = \\vphantom{\\frac{\\mathrm{d}}{\\mathrm{d}t}}^\\mathcal{B}\\frac{\\mathrm{d}}{\\mathrm{d}t}  {}^\\mathcal{I} \\mathbf h_G + {}^\\mathcal{I}\\boldsymbol{\\omega}^\\mathcal{B} \\times  \\mathbf h_G$.\n",
    "\n",
    "$\\left[\\vphantom{\\frac{\\mathrm{d}}{\\mathrm{d}t}}^\\mathcal{I}\\frac{\\mathrm{d}}{\\mathrm{d}t}  {}^\\mathcal{I} \\mathbf h_G\\right]_\\mathcal{B}$:"
   ]
  },
  {
   "cell_type": "code",
   "execution_count": 7,
   "metadata": {},
   "outputs": [
    {
     "data": {
      "image/png": "[encoded data removed]",
      "text/latex": [
       "$$\\left[\\begin{matrix}I_{1} \\dot{\\psi}^{2} \\sin{\\left (\\theta \\right )} \\cos{\\left (\\theta \\right )} + I_{1} \\ddot{\\theta} - I_{2} \\dot{\\psi} \\left(\\Omega + \\dot{\\psi} \\sin{\\left (\\theta \\right )}\\right) \\cos{\\left (\\theta \\right )}\\\\I_{2} \\left(\\ddot{\\psi} \\sin{\\left (\\theta \\right )} + \\dot{\\psi} \\dot{\\theta} \\cos{\\left (\\theta \\right )}\\right)\\\\I_{1} \\ddot{\\psi} \\cos{\\left (\\theta \\right )} - 2 I_{1} \\dot{\\psi} \\dot{\\theta} \\sin{\\left (\\theta \\right )} + I_{2} \\dot{\\theta} \\left(\\Omega + \\dot{\\psi} \\sin{\\left (\\theta \\right )}\\right)\\end{matrix}\\right]$$"
      ],
      "text/plain": [
       "⎡     2                                                     ⎤\n",
       "⎢I₁⋅ψ̇ ⋅sin(θ)⋅cos(θ) + I₁⋅θ̈ - I₂⋅ψ̇⋅(Ω + ψ̇⋅sin(θ))⋅cos(θ)⎥\n",
       "⎢                                                           ⎥\n",
       "⎢               I₂⋅(ψ̈⋅sin(θ) + ψ̇⋅θ̇⋅cos(θ))               ⎥\n",
       "⎢                                                           ⎥\n",
       "⎣ I₁⋅ψ̈⋅cos(θ) - 2⋅I₁⋅ψ̇⋅θ̇⋅sin(θ) + I₂⋅θ̇⋅(Ω + ψ̇⋅sin(θ))  ⎦"
      ]
     },
     "execution_count": 7,
     "metadata": {},
     "output_type": "execute_result"
    }
   ],
   "source": [
    "dhG_B = difftotalmat(hG_B,t,diffmap) + skew(iWb_B)*hG_B; dhG_B"
   ]
  },
  {
   "cell_type": "markdown",
   "metadata": {},
   "source": [
    "Note that the $\\mathbf b_2$ component of ${}^\\mathcal{I}\\boldsymbol{\\omega}^\\mathcal{B} \\times  \\mathbf h_G$  is zero:"
   ]
  },
  {
   "cell_type": "code",
   "execution_count": 11,
   "metadata": {},
   "outputs": [
    {
     "data": {
      "image/png": "[encoded data removed]",
      "text/latex": [
       "$$\\left[\\begin{matrix}I_{1} \\dot{\\psi}^{2} \\sin{\\left (\\theta \\right )} \\cos{\\left (\\theta \\right )} - I_{2} \\dot{\\psi} \\left(\\Omega + \\dot{\\psi} \\sin{\\left (\\theta \\right )}\\right) \\cos{\\left (\\theta \\right )}\\\\0\\\\- I_{1} \\dot{\\psi} \\dot{\\theta} \\sin{\\left (\\theta \\right )} + I_{2} \\dot{\\theta} \\left(\\Omega + \\dot{\\psi} \\sin{\\left (\\theta \\right )}\\right)\\end{matrix}\\right]$$"
      ],
      "text/plain": [
       "⎡     2                                             ⎤\n",
       "⎢I₁⋅ψ̇ ⋅sin(θ)⋅cos(θ) - I₂⋅ψ̇⋅(Ω + ψ̇⋅sin(θ))⋅cos(θ)⎥\n",
       "⎢                                                   ⎥\n",
       "⎢                         0                         ⎥\n",
       "⎢                                                   ⎥\n",
       "⎣     -I₁⋅ψ̇⋅θ̇⋅sin(θ) + I₂⋅θ̇⋅(Ω + ψ̇⋅sin(θ))      ⎦"
      ]
     },
     "execution_count": 11,
     "metadata": {},
     "output_type": "execute_result"
    }
   ],
   "source": [
    "skew(iWb_B)*hG_B"
   ]
  },
  {
   "cell_type": "markdown",
   "metadata": {},
   "source": [
    "Define $C \\triangleq \\Omega + \\dot\\psi\\sin\\theta$ and substitute into $\\left[\\vphantom{\\frac{\\mathrm{d}}{\\mathrm{d}t}}^\\mathcal{I}\\frac{\\mathrm{d}}{\\mathrm{d}t}  {}^\\mathcal{I} \\mathbf h_G\\right]_\\mathcal{B}$:"
   ]
  },
  {
   "cell_type": "code",
   "execution_count": 8,
   "metadata": {},
   "outputs": [
    {
     "data": {
      "image/png": "[encoded data removed]",
      "text/latex": [
       "$$\\left[\\begin{matrix}- C I_{2} \\dot{\\psi} \\cos{\\left (\\theta \\right )} + I_{1} \\dot{\\psi}^{2} \\sin{\\left (\\theta \\right )} \\cos{\\left (\\theta \\right )} + I_{1} \\ddot{\\theta}\\\\I_{2} \\left(\\ddot{\\psi} \\sin{\\left (\\theta \\right )} + \\dot{\\psi} \\dot{\\theta} \\cos{\\left (\\theta \\right )}\\right)\\\\C I_{2} \\dot{\\theta} + I_{1} \\ddot{\\psi} \\cos{\\left (\\theta \\right )} - 2 I_{1} \\dot{\\psi} \\dot{\\theta} \\sin{\\left (\\theta \\right )}\\end{matrix}\\right]$$"
      ],
      "text/plain": [
       "⎡                       2                      ⎤\n",
       "⎢-C⋅I₂⋅ψ̇⋅cos(θ) + I₁⋅ψ̇ ⋅sin(θ)⋅cos(θ) + I₁⋅θ̈⎥\n",
       "⎢                                              ⎥\n",
       "⎢        I₂⋅(ψ̈⋅sin(θ) + ψ̇⋅θ̇⋅cos(θ))         ⎥\n",
       "⎢                                              ⎥\n",
       "⎣  C⋅I₂⋅θ̇ + I₁⋅ψ̈⋅cos(θ) - 2⋅I₁⋅ψ̇⋅θ̇⋅sin(θ)  ⎦"
      ]
     },
     "execution_count": 8,
     "metadata": {},
     "output_type": "execute_result"
    }
   ],
   "source": [
    "dhG_B_simp = dhG_B.subs(Omega+psid*sin(th),C); dhG_B_simp"
   ]
  },
  {
   "cell_type": "markdown",
   "metadata": {},
   "source": [
    "Assume an external torque generating moment about $G$ of $\\mathbf M_G = -M_1\\mathbf b_1$:"
   ]
  },
  {
   "cell_type": "code",
   "execution_count": 9,
   "metadata": {},
   "outputs": [
    {
     "data": {
      "image/png": "[encoded data removed]",
      "text/latex": [
       "$$\\left \\{ \\ddot{\\psi} : \\frac{\\dot{\\theta} \\left(- \\frac{C I_{2}}{\\cos{\\left (\\theta \\right )}} + 2 I_{1} \\dot{\\psi} \\tan{\\left (\\theta \\right )}\\right)}{I_{1}}, \\quad \\ddot{\\theta} : \\frac{C I_{2} \\dot{\\psi} \\cos{\\left (\\theta \\right )} - \\frac{I_{1} \\dot{\\psi}^{2} \\sin{\\left (2 \\theta \\right )}}{2} - M_{1}}{I_{1}}\\right \\}$$"
      ],
      "text/plain": [
       "⎧                                                              2              \n",
       "⎪       ⎛   C⋅I₂                  ⎞                       I₁⋅ψ̇ ⋅sin(2⋅θ)     \n",
       "⎪    θ̇⋅⎜- ────── + 2⋅I₁⋅ψ̇⋅tan(θ)⎟      C⋅I₂⋅ψ̇⋅cos(θ) - ─────────────── - M₁\n",
       "⎨       ⎝  cos(θ)                 ⎠                              2            \n",
       "⎪ψ̈: ──────────────────────────────, θ̈: ─────────────────────────────────────\n",
       "⎪                  I₁                                      I₁                 \n",
       "⎩                                                                             \n",
       "\n",
       "⎫\n",
       "⎪\n",
       "⎪\n",
       "⎬\n",
       "⎪\n",
       "⎪\n",
       "⎭"
      ]
     },
     "execution_count": 9,
     "metadata": {},
     "output_type": "execute_result"
    }
   ],
   "source": [
    "solve([dhG_B_simp[0] + M1,dhG_B_simp[2]],[thdd,psidd])"
   ]
  },
  {
   "cell_type": "code",
   "execution_count": null,
   "metadata": {},
   "outputs": [],
   "source": []
  }
 ],
 "metadata": {
  "kernelspec": {
   "display_name": "Python 3",
   "language": "python",
   "name": "python3"
  },
  "language_info": {
   "codemirror_mode": {
    "name": "ipython",
    "version": 3
   },
   "file_extension": ".py",
   "mimetype": "text/x-python",
   "name": "python",
   "nbconvert_exporter": "python",
   "pygments_lexer": "ipython3",
   "version": "3.7.2"
  }
 },
 "nbformat": 4,
 "nbformat_minor": 1
}
