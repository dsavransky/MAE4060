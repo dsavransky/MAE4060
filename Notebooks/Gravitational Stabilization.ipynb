{
 "cells": [
  {
   "cell_type": "code",
   "execution_count": 95,
   "metadata": {
    "collapsed": true
   },
   "outputs": [],
   "source": [
    "from miscpy.utils.sympyhelpers import *\n",
    "init_printing()"
   ]
  },
  {
   "cell_type": "code",
   "execution_count": 96,
   "metadata": {
    "collapsed": true
   },
   "outputs": [],
   "source": [
    "mu,rg,I1,I2,I3,n,w1,w2,w3,w1d,w2d,w3d,t = symbols('mu,r_G,I_1,I_2,I_3,n,omega_1,omega_2,omega_3,omegadot_1,omegadot_2,omegadot_3,t')\n",
    "diffmap = {w1:w1d,w2:w2d,w3:w3d}"
   ]
  },
  {
   "cell_type": "code",
   "execution_count": 97,
   "metadata": {
    "collapsed": false
   },
   "outputs": [
    {
     "data": {
      "image/png": "[encoded data removed]",
      "text/latex": [
       "$$\\left[\\begin{matrix}{}^\\mathcal{B}C^{\\mathcal{A}}_{11} & {}^\\mathcal{B}C^{\\mathcal{A}}_{12} & {}^\\mathcal{B}C^{\\mathcal{A}}_{13}\\\\{}^\\mathcal{B}C^{\\mathcal{A}}_{21} & {}^\\mathcal{B}C^{\\mathcal{A}}_{22} & {}^\\mathcal{B}C^{\\mathcal{A}}_{23}\\\\{}^\\mathcal{B}C^{\\mathcal{A}}_{31} & {}^\\mathcal{B}C^{\\mathcal{A}}_{32} & {}^\\mathcal{B}C^{\\mathcal{A}}_{33}\\end{matrix}\\right]$$"
      ],
      "text/plain": [
       "⎡{}_{11}__\\mathcal{B}C__{\\mathcal{A}}  {}_{12}__\\mathcal{B}C__{\\mathcal{A}}  {\n",
       "⎢                                                                             \n",
       "⎢{}_{21}__\\mathcal{B}C__{\\mathcal{A}}  {}_{22}__\\mathcal{B}C__{\\mathcal{A}}  {\n",
       "⎢                                                                             \n",
       "⎣{}_{31}__\\mathcal{B}C__{\\mathcal{A}}  {}_{32}__\\mathcal{B}C__{\\mathcal{A}}  {\n",
       "\n",
       "}_{13}__\\mathcal{B}C__{\\mathcal{A}}⎤\n",
       "                                   ⎥\n",
       "}_{23}__\\mathcal{B}C__{\\mathcal{A}}⎥\n",
       "                                   ⎥\n",
       "}_{33}__\\mathcal{B}C__{\\mathcal{A}}⎦"
      ]
     },
     "execution_count": 97,
     "metadata": {},
     "output_type": "execute_result"
    }
   ],
   "source": [
    "bCa = fancyMat('{}^\\mathcal{B}C^{\\mathcal{A}}',(3,3));bCa"
   ]
  },
  {
   "cell_type": "code",
   "execution_count": 98,
   "metadata": {
    "collapsed": false
   },
   "outputs": [
    {
     "data": {
      "image/png": "[encoded data removed]",
      "text/latex": [
       "$$\\left[\\begin{matrix}{}^\\mathcal{B}C^{\\mathcal{A}}_{12}\\\\{}^\\mathcal{B}C^{\\mathcal{A}}_{22}\\\\{}^\\mathcal{B}C^{\\mathcal{A}}_{32}\\end{matrix}\\right]$$"
      ],
      "text/plain": [
       "⎡{}_{12}__\\mathcal{B}C__{\\mathcal{A}}⎤\n",
       "⎢                                    ⎥\n",
       "⎢{}_{22}__\\mathcal{B}C__{\\mathcal{A}}⎥\n",
       "⎢                                    ⎥\n",
       "⎣{}_{32}__\\mathcal{B}C__{\\mathcal{A}}⎦"
      ]
     },
     "execution_count": 98,
     "metadata": {},
     "output_type": "execute_result"
    }
   ],
   "source": [
    "en_B = bCa*Matrix([0,1,0]); en_B"
   ]
  },
  {
   "cell_type": "code",
   "execution_count": 99,
   "metadata": {
    "collapsed": true
   },
   "outputs": [],
   "source": [
    "Ig_B = diag(I1,I2,I3)"
   ]
  },
  {
   "cell_type": "code",
   "execution_count": 100,
   "metadata": {
    "collapsed": false
   },
   "outputs": [
    {
     "data": {
      "image/png": "[encoded data removed]",
      "text/latex": [
       "$$\\left[\\begin{matrix}{}^\\mathcal{B}C^{\\mathcal{A}}_{22} {}^\\mathcal{B}C^{\\mathcal{A}}_{32} \\left(- I_{2} + I_{3}\\right)\\\\{}^\\mathcal{B}C^{\\mathcal{A}}_{12} {}^\\mathcal{B}C^{\\mathcal{A}}_{32} \\left(I_{1} - I_{3}\\right)\\\\{}^\\mathcal{B}C^{\\mathcal{A}}_{12} {}^\\mathcal{B}C^{\\mathcal{A}}_{22} \\left(- I_{1} + I_{2}\\right)\\end{matrix}\\right]$$"
      ],
      "text/plain": [
       "⎡{}_{22}__\\mathcal{B}C__{\\mathcal{A}}⋅{}_{32}__\\mathcal{B}C__{\\mathcal{A}}⋅(-I\n",
       "⎢                                                                             \n",
       "⎢{}_{12}__\\mathcal{B}C__{\\mathcal{A}}⋅{}_{32}__\\mathcal{B}C__{\\mathcal{A}}⋅(I₁\n",
       "⎢                                                                             \n",
       "⎣{}_{12}__\\mathcal{B}C__{\\mathcal{A}}⋅{}_{22}__\\mathcal{B}C__{\\mathcal{A}}⋅(-I\n",
       "\n",
       "₂ + I₃)⎤\n",
       "       ⎥\n",
       " - I₃) ⎥\n",
       "       ⎥\n",
       "₁ + I₂)⎦"
      ]
     },
     "execution_count": 100,
     "metadata": {},
     "output_type": "execute_result"
    }
   ],
   "source": [
    "Mg_B = simplify(skew(en_B)*Ig_B*en_B); Mg_B"
   ]
  },
  {
   "cell_type": "code",
   "execution_count": null,
   "metadata": {
    "collapsed": true
   },
   "outputs": [],
   "source": []
  },
  {
   "cell_type": "markdown",
   "metadata": {},
   "source": [
    "Circular orbit"
   ]
  },
  {
   "cell_type": "code",
   "execution_count": 101,
   "metadata": {
    "collapsed": false
   },
   "outputs": [
    {
     "data": {
      "image/png": "[encoded data removed]",
      "text/latex": [
       "$$\\left[\\begin{matrix}0\\\\0\\\\n\\end{matrix}\\right]$$"
      ],
      "text/plain": [
       "⎡0⎤\n",
       "⎢ ⎥\n",
       "⎢0⎥\n",
       "⎢ ⎥\n",
       "⎣n⎦"
      ]
     },
     "execution_count": 101,
     "metadata": {},
     "output_type": "execute_result"
    }
   ],
   "source": [
    "iWa_A = Matrix([0,0,n]); iWa_A"
   ]
  },
  {
   "cell_type": "code",
   "execution_count": 102,
   "metadata": {
    "collapsed": false
   },
   "outputs": [
    {
     "data": {
      "image/png": "[encoded data removed]",
      "text/latex": [
       "$$\\left[\\begin{matrix}\\omega_{1}\\\\\\omega_{2}\\\\\\omega_{3}\\end{matrix}\\right]$$"
      ],
      "text/plain": [
       "⎡ω₁⎤\n",
       "⎢  ⎥\n",
       "⎢ω₂⎥\n",
       "⎢  ⎥\n",
       "⎣ω₃⎦"
      ]
     },
     "execution_count": 102,
     "metadata": {},
     "output_type": "execute_result"
    }
   ],
   "source": [
    "iWb_B = Matrix([w1,w2,w3]); iWb_B"
   ]
  },
  {
   "cell_type": "code",
   "execution_count": 103,
   "metadata": {
    "collapsed": false
   },
   "outputs": [
    {
     "data": {
      "image/png": "[encoded data removed]",
      "text/latex": [
       "$$\\left[\\begin{matrix}I_{1} \\dot{\\omega}_{1} - I_{2} \\omega_{2} \\omega_{3} + I_{3} \\omega_{2} \\omega_{3} + 3 n^{2} {}^\\mathcal{B}C^{\\mathcal{A}}_{22} {}^\\mathcal{B}C^{\\mathcal{A}}_{32} \\left(I_{2} - I_{3}\\right)\\\\I_{1} \\omega_{1} \\omega_{3} + I_{2} \\dot{\\omega}_{2} - I_{3} \\omega_{1} \\omega_{3} - 3 n^{2} {}^\\mathcal{B}C^{\\mathcal{A}}_{12} {}^\\mathcal{B}C^{\\mathcal{A}}_{32} \\left(I_{1} - I_{3}\\right)\\\\- I_{1} \\omega_{1} \\omega_{2} + I_{2} \\omega_{1} \\omega_{2} + I_{3} \\dot{\\omega}_{3} + 3 n^{2} {}^\\mathcal{B}C^{\\mathcal{A}}_{12} {}^\\mathcal{B}C^{\\mathcal{A}}_{22} \\left(I_{1} - I_{2}\\right)\\end{matrix}\\right]$$"
      ],
      "text/plain": [
       "⎡                                  2                                          \n",
       "⎢I₁⋅ω̇₁ - I₂⋅ω₂⋅ω₃ + I₃⋅ω₂⋅ω₃ + 3⋅n ⋅{}_{22}__\\mathcal{B}C__{\\mathcal{A}}⋅{}_{\n",
       "⎢                                                                             \n",
       "⎢                                  2                                          \n",
       "⎢I₁⋅ω₁⋅ω₃ + I₂⋅ω̇₂ - I₃⋅ω₁⋅ω₃ - 3⋅n ⋅{}_{12}__\\mathcal{B}C__{\\mathcal{A}}⋅{}_{\n",
       "⎢                                                                             \n",
       "⎢                                   2                                         \n",
       "⎣-I₁⋅ω₁⋅ω₂ + I₂⋅ω₁⋅ω₂ + I₃⋅ω̇₃ + 3⋅n ⋅{}_{12}__\\mathcal{B}C__{\\mathcal{A}}⋅{}_\n",
       "\n",
       "                                           ⎤\n",
       "32}__\\mathcal{B}C__{\\mathcal{A}}⋅(I₂ - I₃) ⎥\n",
       "                                           ⎥\n",
       "                                           ⎥\n",
       "32}__\\mathcal{B}C__{\\mathcal{A}}⋅(I₁ - I₃) ⎥\n",
       "                                           ⎥\n",
       "                                           ⎥\n",
       "{22}__\\mathcal{B}C__{\\mathcal{A}}⋅(I₁ - I₂)⎦"
      ]
     },
     "execution_count": 103,
     "metadata": {},
     "output_type": "execute_result"
    }
   ],
   "source": [
    "tmp1 = simplify(Ig_B*difftotalmat(iWb_B,t,diffmap) + skew(iWb_B)*Ig_B*iWb_B - 3*n**2*Mg_B);tmp1"
   ]
  },
  {
   "cell_type": "code",
   "execution_count": 104,
   "metadata": {
    "collapsed": false
   },
   "outputs": [
    {
     "data": {
      "image/png": "[encoded data removed]",
      "text/latex": [
       "$$\\left[\\begin{matrix}I_{1} \\dot{\\omega}_{1} - I_{2} \\omega_{2} \\omega_{3} + I_{3} \\omega_{2} \\omega_{3} + 3 n^{2} {}^\\mathcal{B}C^{\\mathcal{A}}_{22} {}^\\mathcal{B}C^{\\mathcal{A}}_{32} \\left(I_{2} - I_{3}\\right)\\\\I_{1} \\omega_{1} \\omega_{3} + I_{2} \\dot{\\omega}_{2} - I_{3} \\omega_{1} \\omega_{3} - 3 n^{2} {}^\\mathcal{B}C^{\\mathcal{A}}_{12} {}^\\mathcal{B}C^{\\mathcal{A}}_{32} \\left(I_{1} - I_{3}\\right)\\\\- I_{1} \\omega_{1} \\omega_{2} + I_{2} \\omega_{1} \\omega_{2} + I_{3} \\dot{\\omega}_{3} + 3 n^{2} {}^\\mathcal{B}C^{\\mathcal{A}}_{12} {}^\\mathcal{B}C^{\\mathcal{A}}_{22} \\left(I_{1} - I_{2}\\right)\\end{matrix}\\right]$$"
      ],
      "text/plain": [
       "⎡                                  2                                          \n",
       "⎢I₁⋅ω̇₁ - I₂⋅ω₂⋅ω₃ + I₃⋅ω₂⋅ω₃ + 3⋅n ⋅{}_{22}__\\mathcal{B}C__{\\mathcal{A}}⋅{}_{\n",
       "⎢                                                                             \n",
       "⎢                                  2                                          \n",
       "⎢I₁⋅ω₁⋅ω₃ + I₂⋅ω̇₂ - I₃⋅ω₁⋅ω₃ - 3⋅n ⋅{}_{12}__\\mathcal{B}C__{\\mathcal{A}}⋅{}_{\n",
       "⎢                                                                             \n",
       "⎢                                   2                                         \n",
       "⎣-I₁⋅ω₁⋅ω₂ + I₂⋅ω₁⋅ω₂ + I₃⋅ω̇₃ + 3⋅n ⋅{}_{12}__\\mathcal{B}C__{\\mathcal{A}}⋅{}_\n",
       "\n",
       "                                           ⎤\n",
       "32}__\\mathcal{B}C__{\\mathcal{A}}⋅(I₂ - I₃) ⎥\n",
       "                                           ⎥\n",
       "                                           ⎥\n",
       "32}__\\mathcal{B}C__{\\mathcal{A}}⋅(I₁ - I₃) ⎥\n",
       "                                           ⎥\n",
       "                                           ⎥\n",
       "{22}__\\mathcal{B}C__{\\mathcal{A}}⋅(I₁ - I₂)⎦"
      ]
     },
     "execution_count": 104,
     "metadata": {},
     "output_type": "execute_result"
    }
   ],
   "source": [
    "simplify(tmp1)"
   ]
  },
  {
   "cell_type": "code",
   "execution_count": null,
   "metadata": {
    "collapsed": false
   },
   "outputs": [
    {
     "data": {
      "image/png": "[encoded data removed]",
      "text/latex": [
       "$$\\left[\\begin{matrix}- n {}^\\mathcal{B}C^{\\mathcal{A}}_{13} + \\omega_{1}\\\\- n {}^\\mathcal{B}C^{\\mathcal{A}}_{23} + \\omega_{2}\\\\- n {}^\\mathcal{B}C^{\\mathcal{A}}_{33} + \\omega_{3}\\end{matrix}\\right]$$"
      ],
      "text/plain": [
       "⎡-n⋅{}_{13}__\\mathcal{B}C__{\\mathcal{A}} + ω₁⎤\n",
       "⎢                                            ⎥\n",
       "⎢-n⋅{}_{23}__\\mathcal{B}C__{\\mathcal{A}} + ω₂⎥\n",
       "⎢                                            ⎥\n",
       "⎣-n⋅{}_{33}__\\mathcal{B}C__{\\mathcal{A}} + ω₃⎦"
      ]
     },
     "execution_count": 105,
     "metadata": {},
     "output_type": "execute_result"
    }
   ],
   "source": [
    "aWb_B = iWb_B - bCa*iWa_A; aWb_B"
   ]
  },
  {
   "cell_type": "code",
   "execution_count": null,
   "metadata": {
    "collapsed": false
   },
   "outputs": [],
   "source": [
    "dbCa = simplify(-skew(aWb_B)*bCa); dbCa"
   ]
  },
  {
   "cell_type": "code",
   "execution_count": null,
   "metadata": {
    "collapsed": false
   },
   "outputs": [],
   "source": [
    "dbCa[:,1]"
   ]
  },
  {
   "cell_type": "code",
   "execution_count": null,
   "metadata": {
    "collapsed": true
   },
   "outputs": [],
   "source": []
  }
 ],
 "metadata": {
  "kernelspec": {
   "display_name": "Python 2",
   "language": "python",
   "name": "python2"
  },
  "language_info": {
   "codemirror_mode": {
    "name": "ipython",
    "version": 2
   },
   "file_extension": ".py",
   "mimetype": "text/x-python",
   "name": "python",
   "nbconvert_exporter": "python",
   "pygments_lexer": "ipython2",
   "version": "2.7.12"
  }
 },
 "nbformat": 4,
 "nbformat_minor": 0
}
