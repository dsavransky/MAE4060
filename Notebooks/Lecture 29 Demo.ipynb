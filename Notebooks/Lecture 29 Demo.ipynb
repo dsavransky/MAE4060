{
 "cells": [
  {
   "cell_type": "code",
   "execution_count": 1,
   "metadata": {
    "collapsed": true
   },
   "outputs": [],
   "source": [
    "from miscpy.utils.sympyhelpers import *\n",
    "init_printing()"
   ]
  },
  {
   "cell_type": "code",
   "execution_count": 2,
   "metadata": {
    "collapsed": true
   },
   "outputs": [],
   "source": [
    "m,r,R,R1,R2,th,ph = symbols('m,r,R,R_1,R_2,theta,phi')"
   ]
  },
  {
   "cell_type": "code",
   "execution_count": 3,
   "metadata": {
    "collapsed": false
   },
   "outputs": [
    {
     "data": {
      "image/png": "[encoded data removed]",
      "text/latex": [
       "$$\\left[\\begin{matrix}r \\sin{\\left (\\phi \\right )} \\cos{\\left (\\theta \\right )}\\\\r \\sin{\\left (\\phi \\right )} \\sin{\\left (\\theta \\right )}\\\\r \\cos{\\left (\\phi \\right )}\\end{matrix}\\right]$$"
      ],
      "text/plain": [
       "⎡r⋅sin(φ)⋅cos(θ)⎤\n",
       "⎢               ⎥\n",
       "⎢r⋅sin(φ)⋅sin(θ)⎥\n",
       "⎢               ⎥\n",
       "⎣   r⋅cos(φ)    ⎦"
      ]
     },
     "execution_count": 3,
     "metadata": {},
     "output_type": "execute_result"
    }
   ],
   "source": [
    "rdmO = r*Matrix([cos(th)*sin(ph),sin(th)*sin(ph), cos(ph)]);rdmO"
   ]
  },
  {
   "cell_type": "code",
   "execution_count": 7,
   "metadata": {
    "collapsed": false
   },
   "outputs": [
    {
     "data": {
      "image/png": "[encoded data removed]",
      "text/latex": [
       "$$- 2 \\pi \\left(\\frac{R_{1}^{3}}{3} - \\frac{R_{2}^{3}}{3}\\right)$$"
      ],
      "text/plain": [
       "     ⎛  3     3⎞\n",
       "     ⎜R₁    R₂ ⎟\n",
       "-2⋅π⋅⎜─── - ───⎟\n",
       "     ⎝ 3     3 ⎠"
      ]
     },
     "execution_count": 7,
     "metadata": {},
     "output_type": "execute_result"
    }
   ],
   "source": [
    "V = integrate(integrate(integrate(r**2*sin(ph),(r,R1,R2)),(th,0,2*pi)),(ph,0,pi/2)); V"
   ]
  },
  {
   "cell_type": "code",
   "execution_count": 9,
   "metadata": {
    "collapsed": false
   },
   "outputs": [
    {
     "data": {
      "image/png": "[encoded data removed]",
      "text/latex": [
       "$$\\left[\\begin{matrix}0\\\\0\\\\\\frac{3 R_{1}^{4} - 3 R_{2}^{4}}{8 R_{1}^{3} - 8 R_{2}^{3}}\\end{matrix}\\right]$$"
      ],
      "text/plain": [
       "⎡      0      ⎤\n",
       "⎢             ⎥\n",
       "⎢      0      ⎥\n",
       "⎢             ⎥\n",
       "⎢  ⎛  4     4⎞⎥\n",
       "⎢3⋅⎝R₁  - R₂ ⎠⎥\n",
       "⎢─────────────⎥\n",
       "⎢  ⎛  3     3⎞⎥\n",
       "⎣8⋅⎝R₁  - R₂ ⎠⎦"
      ]
     },
     "execution_count": 9,
     "metadata": {},
     "output_type": "execute_result"
    }
   ],
   "source": [
    "rGO = simplify(integrate(integrate(integrate(rdmO*r**2*sin(ph),(r,R1,R2)),(th,0,2*pi)),(ph,0,pi/2))/V);rGO"
   ]
  },
  {
   "cell_type": "code",
   "execution_count": null,
   "metadata": {
    "collapsed": true
   },
   "outputs": [],
   "source": []
  },
  {
   "cell_type": "code",
   "execution_count": null,
   "metadata": {
    "collapsed": true
   },
   "outputs": [],
   "source": []
  },
  {
   "cell_type": "code",
   "execution_count": null,
   "metadata": {
    "collapsed": true
   },
   "outputs": [],
   "source": []
  },
  {
   "cell_type": "code",
   "execution_count": null,
   "metadata": {
    "collapsed": true
   },
   "outputs": [],
   "source": []
  },
  {
   "cell_type": "code",
   "execution_count": 10,
   "metadata": {
    "collapsed": false
   },
   "outputs": [
    {
     "data": {
      "image/png": "[encoded data removed]",
      "text/latex": [
       "$$\\left[\\begin{matrix}r^{2} \\left(\\sin^{2}{\\left (\\phi \\right )} \\sin^{2}{\\left (\\theta \\right )} + \\cos^{2}{\\left (\\phi \\right )}\\right) & - r^{2} \\sin^{2}{\\left (\\phi \\right )} \\sin{\\left (\\theta \\right )} \\cos{\\left (\\theta \\right )} & - \\frac{r^{2}}{4} \\left(\\sin{\\left (2 \\phi - \\theta \\right )} + \\sin{\\left (2 \\phi + \\theta \\right )}\\right)\\\\- r^{2} \\sin^{2}{\\left (\\phi \\right )} \\sin{\\left (\\theta \\right )} \\cos{\\left (\\theta \\right )} & r^{2} \\left(- \\sin^{2}{\\left (\\phi \\right )} \\sin^{2}{\\left (\\theta \\right )} + 1\\right) & - \\frac{r^{2}}{4} \\left(\\cos{\\left (2 \\phi - \\theta \\right )} - \\cos{\\left (2 \\phi + \\theta \\right )}\\right)\\\\- \\frac{r^{2}}{4} \\left(\\sin{\\left (2 \\phi - \\theta \\right )} + \\sin{\\left (2 \\phi + \\theta \\right )}\\right) & - \\frac{r^{2}}{4} \\left(\\cos{\\left (2 \\phi - \\theta \\right )} - \\cos{\\left (2 \\phi + \\theta \\right )}\\right) & r^{2} \\sin^{2}{\\left (\\phi \\right )}\\end{matrix}\\right]$$"
      ],
      "text/plain": [
       "⎡                                                                          2  \n",
       "⎢   2 ⎛   2       2         2   ⎞          2    2                        -r ⋅(\n",
       "⎢  r ⋅⎝sin (φ)⋅sin (θ) + cos (φ)⎠        -r ⋅sin (φ)⋅sin(θ)⋅cos(θ)       ─────\n",
       "⎢                                                                             \n",
       "⎢                                                                             \n",
       "⎢                                                                          2  \n",
       "⎢      2    2                             2 ⎛     2       2       ⎞      -r ⋅(\n",
       "⎢    -r ⋅sin (φ)⋅sin(θ)⋅cos(θ)           r ⋅⎝- sin (φ)⋅sin (θ) + 1⎠      ─────\n",
       "⎢                                                                             \n",
       "⎢                                                                             \n",
       "⎢  2                                   2                                      \n",
       "⎢-r ⋅(sin(2⋅φ - θ) + sin(2⋅φ + θ))   -r ⋅(cos(2⋅φ - θ) - cos(2⋅φ + θ))        \n",
       "⎢──────────────────────────────────  ──────────────────────────────────       \n",
       "⎣                4                                   4                        \n",
       "\n",
       "                             ⎤\n",
       "sin(2⋅φ - θ) + sin(2⋅φ + θ)) ⎥\n",
       "─────────────────────────────⎥\n",
       "           4                 ⎥\n",
       "                             ⎥\n",
       "                             ⎥\n",
       "cos(2⋅φ - θ) - cos(2⋅φ + θ)) ⎥\n",
       "─────────────────────────────⎥\n",
       "           4                 ⎥\n",
       "                             ⎥\n",
       "                             ⎥\n",
       "        2    2               ⎥\n",
       "       r ⋅sin (φ)            ⎥\n",
       "                             ⎦"
      ]
     },
     "execution_count": 10,
     "metadata": {},
     "output_type": "execute_result"
    }
   ],
   "source": [
    "tmp = simplify((rdmO.T*rdmO)[0]*eye(3) - rdmO*rdmO.T); tmp"
   ]
  },
  {
   "cell_type": "code",
   "execution_count": 12,
   "metadata": {
    "collapsed": false
   },
   "outputs": [
    {
     "data": {
      "image/png": "[encoded data removed]",
      "text/latex": [
       "$$\\left[\\begin{matrix}- \\frac{m \\left(- \\frac{4 \\pi}{15} R_{1}^{5} + \\frac{4 \\pi}{15} R_{2}^{5}\\right)}{2 \\pi \\left(\\frac{R_{1}^{3}}{3} - \\frac{R_{2}^{3}}{3}\\right)} & 0 & 0\\\\0 & - \\frac{m \\left(- \\frac{4 \\pi}{15} R_{1}^{5} + \\frac{4 \\pi}{15} R_{2}^{5}\\right)}{2 \\pi \\left(\\frac{R_{1}^{3}}{3} - \\frac{R_{2}^{3}}{3}\\right)} & 0\\\\0 & 0 & \\frac{m \\left(\\frac{2 R_{1}^{5}}{15} - \\frac{2 R_{2}^{5}}{15}\\right)}{\\frac{R_{1}^{3}}{3} - \\frac{R_{2}^{3}}{3}}\\end{matrix}\\right]$$"
      ],
      "text/plain": [
       "⎡   ⎛        5         5⎞                                               ⎤\n",
       "⎢   ⎜  4⋅π⋅R₁    4⋅π⋅R₂ ⎟                                               ⎥\n",
       "⎢-m⋅⎜- ─────── + ───────⎟                                               ⎥\n",
       "⎢   ⎝     15        15  ⎠                                               ⎥\n",
       "⎢─────────────────────────              0                      0        ⎥\n",
       "⎢         ⎛  3     3⎞                                                   ⎥\n",
       "⎢         ⎜R₁    R₂ ⎟                                                   ⎥\n",
       "⎢     2⋅π⋅⎜─── - ───⎟                                                   ⎥\n",
       "⎢         ⎝ 3     3 ⎠                                                   ⎥\n",
       "⎢                                                                       ⎥\n",
       "⎢                              ⎛        5         5⎞                    ⎥\n",
       "⎢                              ⎜  4⋅π⋅R₁    4⋅π⋅R₂ ⎟                    ⎥\n",
       "⎢                           -m⋅⎜- ─────── + ───────⎟                    ⎥\n",
       "⎢                              ⎝     15        15  ⎠                    ⎥\n",
       "⎢            0              ─────────────────────────          0        ⎥\n",
       "⎢                                    ⎛  3     3⎞                        ⎥\n",
       "⎢                                    ⎜R₁    R₂ ⎟                        ⎥\n",
       "⎢                                2⋅π⋅⎜─── - ───⎟                        ⎥\n",
       "⎢                                    ⎝ 3     3 ⎠                        ⎥\n",
       "⎢                                                                       ⎥\n",
       "⎢                                                        ⎛    5       5⎞⎥\n",
       "⎢                                                        ⎜2⋅R₁    2⋅R₂ ⎟⎥\n",
       "⎢                                                      m⋅⎜───── - ─────⎟⎥\n",
       "⎢                                                        ⎝  15      15 ⎠⎥\n",
       "⎢            0                          0              ─────────────────⎥\n",
       "⎢                                                            3     3    ⎥\n",
       "⎢                                                          R₁    R₂     ⎥\n",
       "⎢                                                          ─── - ───    ⎥\n",
       "⎣                                                           3     3     ⎦"
      ]
     },
     "execution_count": 12,
     "metadata": {},
     "output_type": "execute_result"
    }
   ],
   "source": [
    "Io = m/V*integrate(integrate(integrate(tmp*r**2*sin(ph),(r,R1,R2)),(th,0,2*pi)),(ph,0,pi/2)); Io"
   ]
  },
  {
   "cell_type": "code",
   "execution_count": 14,
   "metadata": {
    "collapsed": false
   },
   "outputs": [
    {
     "data": {
      "image/png": "[encoded data removed]",
      "text/latex": [
       "$$\\left[\\begin{matrix}\\frac{m}{320 \\left(R_{1}^{3} - R_{2}^{3}\\right)^{2}} \\left(128 \\left(R_{1}^{3} - R_{2}^{3}\\right) \\left(R_{1}^{5} - R_{2}^{5}\\right) - 45 \\left(R_{1}^{4} - R_{2}^{4}\\right)^{2}\\right) & 0 & 0\\\\0 & \\frac{m}{320 \\left(R_{1}^{3} - R_{2}^{3}\\right)^{2}} \\left(128 \\left(R_{1}^{3} - R_{2}^{3}\\right) \\left(R_{1}^{5} - R_{2}^{5}\\right) - 45 \\left(R_{1}^{4} - R_{2}^{4}\\right)^{2}\\right) & 0\\\\0 & 0 & \\frac{2 m \\left(R_{1}^{5} - R_{2}^{5}\\right)}{5 R_{1}^{3} - 5 R_{2}^{3}}\\end{matrix}\\right]$$"
      ],
      "text/plain": [
       "⎡  ⎛                                            2⎞                            \n",
       "⎢  ⎜    ⎛  3     3⎞ ⎛  5     5⎞      ⎛  4     4⎞ ⎟                            \n",
       "⎢m⋅⎝128⋅⎝R₁  - R₂ ⎠⋅⎝R₁  - R₂ ⎠ - 45⋅⎝R₁  - R₂ ⎠ ⎠                            \n",
       "⎢─────────────────────────────────────────────────                          0 \n",
       "⎢                                2                                            \n",
       "⎢                     ⎛  3     3⎞                                             \n",
       "⎢                 320⋅⎝R₁  - R₂ ⎠                                             \n",
       "⎢                                                                             \n",
       "⎢                                                     ⎛                       \n",
       "⎢                                                     ⎜    ⎛  3     3⎞ ⎛  5   \n",
       "⎢                                                   m⋅⎝128⋅⎝R₁  - R₂ ⎠⋅⎝R₁  - \n",
       "⎢                        0                          ──────────────────────────\n",
       "⎢                                                                             \n",
       "⎢                                                                        ⎛  3 \n",
       "⎢                                                                    320⋅⎝R₁  \n",
       "⎢                                                                             \n",
       "⎢                                                                             \n",
       "⎢                                                                             \n",
       "⎢                        0                                                  0 \n",
       "⎢                                                                             \n",
       "⎣                                                                             \n",
       "\n",
       "                                        ⎤\n",
       "                                        ⎥\n",
       "                                        ⎥\n",
       "                                0       ⎥\n",
       "                                        ⎥\n",
       "                                        ⎥\n",
       "                                        ⎥\n",
       "                                        ⎥\n",
       "                     2⎞                 ⎥\n",
       "  5⎞      ⎛  4     4⎞ ⎟                 ⎥\n",
       "R₂ ⎠ - 45⋅⎝R₁  - R₂ ⎠ ⎠                 ⎥\n",
       "───────────────────────         0       ⎥\n",
       "      2                                 ⎥\n",
       "    3⎞                                  ⎥\n",
       "- R₂ ⎠                                  ⎥\n",
       "                                        ⎥\n",
       "                             ⎛  5     5⎞⎥\n",
       "                         2⋅m⋅⎝R₁  - R₂ ⎠⎥\n",
       "                         ───────────────⎥\n",
       "                            ⎛  3     3⎞ ⎥\n",
       "                          5⋅⎝R₁  - R₂ ⎠ ⎦"
      ]
     },
     "execution_count": 14,
     "metadata": {},
     "output_type": "execute_result"
    }
   ],
   "source": [
    "Ig = simplify(Io  - m*((rGO.T*rGO)[0]*eye(3)-rGO*rGO.T)); Ig"
   ]
  },
  {
   "cell_type": "code",
   "execution_count": null,
   "metadata": {
    "collapsed": true
   },
   "outputs": [],
   "source": []
  }
 ],
 "metadata": {
  "kernelspec": {
   "display_name": "Python 2",
   "language": "python",
   "name": "python2"
  },
  "language_info": {
   "codemirror_mode": {
    "name": "ipython",
    "version": 2
   },
   "file_extension": ".py",
   "mimetype": "text/x-python",
   "name": "python",
   "nbconvert_exporter": "python",
   "pygments_lexer": "ipython2",
   "version": "2.7.12"
  }
 },
 "nbformat": 4,
 "nbformat_minor": 0
}
