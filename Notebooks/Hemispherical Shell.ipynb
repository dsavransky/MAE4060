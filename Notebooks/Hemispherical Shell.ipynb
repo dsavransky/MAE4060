{
 "cells": [
  {
   "cell_type": "markdown",
   "metadata": {},
   "source": [
    "# Geometric and Inertial Properties of a Hemispherical Shell"
   ]
  },
  {
   "cell_type": "code",
   "execution_count": 2,
   "metadata": {},
   "outputs": [],
   "source": [
    "from miscpy.utils.sympyhelpers import *\n",
    "init_printing()\n",
    "m,r,R,R1,R2,th,ph = symbols('m,r,R,R_1,R_2,theta,phi')"
   ]
  },
  {
   "cell_type": "markdown",
   "metadata": {
    "collapsed": true
   },
   "source": [
    "![Spherical Shell Diagram](img/hemisphere1.png)"
   ]
  },
  {
   "cell_type": "markdown",
   "metadata": {},
   "source": [
    "The shell has interior radius $R_1$ and exterior radius $R_2$.  The origin of the coordinate system is located at the center of the base (there is no cap on the shell - $O$ is in empty space). A differential mass element in the shell is located by spherical coordinates $r,\\theta,\\phi$ where $\\theta$ is the aximuth and $\\phi$ is the zenith angle."
   ]
  },
  {
   "cell_type": "markdown",
   "metadata": {},
   "source": [
    "## $\\mathbf{r}_{\\mathrm{d}m/O}$ in Spherical Coordinates"
   ]
  },
  {
   "cell_type": "code",
   "execution_count": 3,
   "metadata": {},
   "outputs": [
    {
     "data": {
      "image/png": "[encoded data removed]",
      "text/latex": [
       "$$\\left[\\begin{matrix}r \\sin{\\left (\\phi \\right )} \\cos{\\left (\\theta \\right )}\\\\r \\sin{\\left (\\phi \\right )} \\sin{\\left (\\theta \\right )}\\\\r \\cos{\\left (\\phi \\right )}\\end{matrix}\\right]$$"
      ],
      "text/plain": [
       "⎡r⋅sin(φ)⋅cos(θ)⎤\n",
       "⎢               ⎥\n",
       "⎢r⋅sin(φ)⋅sin(θ)⎥\n",
       "⎢               ⎥\n",
       "⎣   r⋅cos(φ)    ⎦"
      ]
     },
     "execution_count": 3,
     "metadata": {},
     "output_type": "execute_result"
    }
   ],
   "source": [
    "rdmO = r*Matrix([cos(th)*sin(ph),sin(th)*sin(ph), cos(ph)]);rdmO"
   ]
  },
  {
   "cell_type": "markdown",
   "metadata": {},
   "source": [
    "## Volume of Body"
   ]
  },
  {
   "cell_type": "code",
   "execution_count": 4,
   "metadata": {},
   "outputs": [
    {
     "data": {
      "image/png": "[encoded data removed]",
      "text/latex": [
       "$$- 2 \\pi \\left(\\frac{R_{1}^{3}}{3} - \\frac{R_{2}^{3}}{3}\\right)$$"
      ],
      "text/plain": [
       "     ⎛  3     3⎞\n",
       "     ⎜R₁    R₂ ⎟\n",
       "-2⋅π⋅⎜─── - ───⎟\n",
       "     ⎝ 3     3 ⎠"
      ]
     },
     "execution_count": 4,
     "metadata": {},
     "output_type": "execute_result"
    }
   ],
   "source": [
    "V = integrate(integrate(integrate(r**2*sin(ph),(r,R1,R2)),(th,0,2*pi)),(ph,0,pi/2)); V"
   ]
  },
  {
   "cell_type": "markdown",
   "metadata": {
    "collapsed": true
   },
   "source": [
    "## Center of Mass of Body"
   ]
  },
  {
   "cell_type": "code",
   "execution_count": 7,
   "metadata": {},
   "outputs": [
    {
     "data": {
      "image/png": "[encoded data removed]",
      "text/latex": [
       "$$\\frac{3 \\left(R_{1}^{4} - R_{2}^{4}\\right) \\mathbf{b}_3}{8 \\left(R_{1}^{3} - R_{2}^{3}\\right)}$$"
      ],
      "text/plain": [
       "  ⎛  4     4⎞            \n",
       "3⋅⎝R₁  - R₂ ⎠⋅\\mathbf{b}₃\n",
       "─────────────────────────\n",
       "        ⎛  3     3⎞      \n",
       "      8⋅⎝R₁  - R₂ ⎠      "
      ]
     },
     "execution_count": 7,
     "metadata": {},
     "output_type": "execute_result"
    }
   ],
   "source": [
    "rGO = simplify(integrate(integrate(integrate(rdmO*r**2*sin(ph),(r,R1,R2)),(th,0,2*pi)),(ph,0,pi/2))/V);\n",
    "mat2vec(rGO,'b')"
   ]
  },
  {
   "cell_type": "markdown",
   "metadata": {
    "collapsed": true
   },
   "source": [
    "## COM of solid hemisphere"
   ]
  },
  {
   "cell_type": "code",
   "execution_count": 8,
   "metadata": {},
   "outputs": [
    {
     "data": {
      "image/png": "[encoded data removed]",
      "text/latex": [
       "$$\\frac{3 R_{2} \\mathbf{b}_3}{8}$$"
      ],
      "text/plain": [
       "3⋅R₂⋅\\mathbf{b}₃\n",
       "────────────────\n",
       "       8        "
      ]
     },
     "execution_count": 8,
     "metadata": {},
     "output_type": "execute_result"
    }
   ],
   "source": [
    "mat2vec(rGO.subs(R1,0),'b')"
   ]
  },
  {
   "cell_type": "code",
   "execution_count": null,
   "metadata": {
    "collapsed": true
   },
   "outputs": [],
   "source": []
  },
  {
   "cell_type": "markdown",
   "metadata": {},
   "source": [
    "## Argument of Moment of Inertia Integral"
   ]
  },
  {
   "cell_type": "code",
   "execution_count": 12,
   "metadata": {},
   "outputs": [
    {
     "data": {
      "image/png": "[encoded data removed]",
      "text/latex": [
       "$$\\left[\\begin{matrix}r^{2} \\left(\\sin^{2}{\\left (\\phi \\right )} \\sin^{2}{\\left (\\theta \\right )} + \\cos^{2}{\\left (\\phi \\right )}\\right) & - r^{2} \\sin^{2}{\\left (\\phi \\right )} \\sin{\\left (\\theta \\right )} \\cos{\\left (\\theta \\right )} & - \\frac{r^{2} \\left(\\sin{\\left (2 \\phi - \\theta \\right )} + \\sin{\\left (2 \\phi + \\theta \\right )}\\right)}{4}\\\\- r^{2} \\sin^{2}{\\left (\\phi \\right )} \\sin{\\left (\\theta \\right )} \\cos{\\left (\\theta \\right )} & r^{2} \\left(- \\sin^{2}{\\left (\\phi \\right )} \\sin^{2}{\\left (\\theta \\right )} + 1\\right) & - \\frac{r^{2} \\left(\\cos{\\left (2 \\phi - \\theta \\right )} - \\cos{\\left (2 \\phi + \\theta \\right )}\\right)}{4}\\\\- \\frac{r^{2} \\left(\\sin{\\left (2 \\phi - \\theta \\right )} + \\sin{\\left (2 \\phi + \\theta \\right )}\\right)}{4} & - \\frac{r^{2} \\left(\\cos{\\left (2 \\phi - \\theta \\right )} - \\cos{\\left (2 \\phi + \\theta \\right )}\\right)}{4} & r^{2} \\sin^{2}{\\left (\\phi \\right )}\\end{matrix}\\right]$$"
      ],
      "text/plain": [
       "⎡                                                                          2  \n",
       "⎢   2 ⎛   2       2         2   ⎞          2    2                        -r ⋅(\n",
       "⎢  r ⋅⎝sin (φ)⋅sin (θ) + cos (φ)⎠        -r ⋅sin (φ)⋅sin(θ)⋅cos(θ)       ─────\n",
       "⎢                                                                             \n",
       "⎢                                                                             \n",
       "⎢                                                                          2  \n",
       "⎢      2    2                             2 ⎛     2       2       ⎞      -r ⋅(\n",
       "⎢    -r ⋅sin (φ)⋅sin(θ)⋅cos(θ)           r ⋅⎝- sin (φ)⋅sin (θ) + 1⎠      ─────\n",
       "⎢                                                                             \n",
       "⎢                                                                             \n",
       "⎢  2                                   2                                      \n",
       "⎢-r ⋅(sin(2⋅φ - θ) + sin(2⋅φ + θ))   -r ⋅(cos(2⋅φ - θ) - cos(2⋅φ + θ))        \n",
       "⎢──────────────────────────────────  ──────────────────────────────────       \n",
       "⎣                4                                   4                        \n",
       "\n",
       "                             ⎤\n",
       "sin(2⋅φ - θ) + sin(2⋅φ + θ)) ⎥\n",
       "─────────────────────────────⎥\n",
       "           4                 ⎥\n",
       "                             ⎥\n",
       "                             ⎥\n",
       "cos(2⋅φ - θ) - cos(2⋅φ + θ)) ⎥\n",
       "─────────────────────────────⎥\n",
       "           4                 ⎥\n",
       "                             ⎥\n",
       "                             ⎥\n",
       "        2    2               ⎥\n",
       "       r ⋅sin (φ)            ⎥\n",
       "                             ⎦"
      ]
     },
     "execution_count": 12,
     "metadata": {},
     "output_type": "execute_result"
    }
   ],
   "source": [
    "tmp = simplify((rdmO.T*rdmO)[0]*eye(3) - rdmO*rdmO.T); tmp"
   ]
  },
  {
   "cell_type": "markdown",
   "metadata": {},
   "source": [
    "## Moment of Inertia of Body about $O$"
   ]
  },
  {
   "cell_type": "code",
   "execution_count": 13,
   "metadata": {},
   "outputs": [
    {
     "data": {
      "image/png": "[encoded data removed]",
      "text/latex": [
       "$$\\left[\\begin{matrix}- \\frac{m \\left(- \\frac{4 \\pi R_{1}^{5}}{15} + \\frac{4 \\pi R_{2}^{5}}{15}\\right)}{2 \\pi \\left(\\frac{R_{1}^{3}}{3} - \\frac{R_{2}^{3}}{3}\\right)} & 0 & 0\\\\0 & - \\frac{m \\left(- \\frac{4 \\pi R_{1}^{5}}{15} + \\frac{4 \\pi R_{2}^{5}}{15}\\right)}{2 \\pi \\left(\\frac{R_{1}^{3}}{3} - \\frac{R_{2}^{3}}{3}\\right)} & 0\\\\0 & 0 & \\frac{m \\left(\\frac{2 R_{1}^{5}}{15} - \\frac{2 R_{2}^{5}}{15}\\right)}{\\frac{R_{1}^{3}}{3} - \\frac{R_{2}^{3}}{3}}\\end{matrix}\\right]$$"
      ],
      "text/plain": [
       "⎡   ⎛        5         5⎞                                               ⎤\n",
       "⎢   ⎜  4⋅π⋅R₁    4⋅π⋅R₂ ⎟                                               ⎥\n",
       "⎢-m⋅⎜- ─────── + ───────⎟                                               ⎥\n",
       "⎢   ⎝     15        15  ⎠                                               ⎥\n",
       "⎢─────────────────────────              0                      0        ⎥\n",
       "⎢         ⎛  3     3⎞                                                   ⎥\n",
       "⎢         ⎜R₁    R₂ ⎟                                                   ⎥\n",
       "⎢     2⋅π⋅⎜─── - ───⎟                                                   ⎥\n",
       "⎢         ⎝ 3     3 ⎠                                                   ⎥\n",
       "⎢                                                                       ⎥\n",
       "⎢                              ⎛        5         5⎞                    ⎥\n",
       "⎢                              ⎜  4⋅π⋅R₁    4⋅π⋅R₂ ⎟                    ⎥\n",
       "⎢                           -m⋅⎜- ─────── + ───────⎟                    ⎥\n",
       "⎢                              ⎝     15        15  ⎠                    ⎥\n",
       "⎢            0              ─────────────────────────          0        ⎥\n",
       "⎢                                    ⎛  3     3⎞                        ⎥\n",
       "⎢                                    ⎜R₁    R₂ ⎟                        ⎥\n",
       "⎢                                2⋅π⋅⎜─── - ───⎟                        ⎥\n",
       "⎢                                    ⎝ 3     3 ⎠                        ⎥\n",
       "⎢                                                                       ⎥\n",
       "⎢                                                        ⎛    5       5⎞⎥\n",
       "⎢                                                        ⎜2⋅R₁    2⋅R₂ ⎟⎥\n",
       "⎢                                                      m⋅⎜───── - ─────⎟⎥\n",
       "⎢                                                        ⎝  15      15 ⎠⎥\n",
       "⎢            0                          0              ─────────────────⎥\n",
       "⎢                                                            3     3    ⎥\n",
       "⎢                                                          R₁    R₂     ⎥\n",
       "⎢                                                          ─── - ───    ⎥\n",
       "⎣                                                           3     3     ⎦"
      ]
     },
     "execution_count": 13,
     "metadata": {},
     "output_type": "execute_result"
    }
   ],
   "source": [
    "Io = m/V*integrate(integrate(integrate(tmp*r**2*sin(ph),(r,R1,R2)),(th,0,2*pi)),(ph,0,pi/2)); Io"
   ]
  },
  {
   "cell_type": "markdown",
   "metadata": {},
   "source": [
    "## Parallel Axis Theorem to calculated MOI about $G$"
   ]
  },
  {
   "cell_type": "code",
   "execution_count": 14,
   "metadata": {},
   "outputs": [
    {
     "data": {
      "image/png": "[encoded data removed]",
      "text/latex": [
       "$$\\left[\\begin{matrix}\\frac{m \\left(128 \\left(R_{1}^{3} - R_{2}^{3}\\right) \\left(R_{1}^{5} - R_{2}^{5}\\right) - 45 \\left(R_{1}^{4} - R_{2}^{4}\\right)^{2}\\right)}{320 \\left(R_{1}^{3} - R_{2}^{3}\\right)^{2}} & 0 & 0\\\\0 & \\frac{m \\left(128 \\left(R_{1}^{3} - R_{2}^{3}\\right) \\left(R_{1}^{5} - R_{2}^{5}\\right) - 45 \\left(R_{1}^{4} - R_{2}^{4}\\right)^{2}\\right)}{320 \\left(R_{1}^{3} - R_{2}^{3}\\right)^{2}} & 0\\\\0 & 0 & \\frac{2 m \\left(R_{1}^{5} - R_{2}^{5}\\right)}{5 \\left(R_{1}^{3} - R_{2}^{3}\\right)}\\end{matrix}\\right]$$"
      ],
      "text/plain": [
       "⎡  ⎛                                            2⎞                            \n",
       "⎢  ⎜    ⎛  3     3⎞ ⎛  5     5⎞      ⎛  4     4⎞ ⎟                            \n",
       "⎢m⋅⎝128⋅⎝R₁  - R₂ ⎠⋅⎝R₁  - R₂ ⎠ - 45⋅⎝R₁  - R₂ ⎠ ⎠                            \n",
       "⎢─────────────────────────────────────────────────                          0 \n",
       "⎢                                2                                            \n",
       "⎢                     ⎛  3     3⎞                                             \n",
       "⎢                 320⋅⎝R₁  - R₂ ⎠                                             \n",
       "⎢                                                                             \n",
       "⎢                                                     ⎛                       \n",
       "⎢                                                     ⎜    ⎛  3     3⎞ ⎛  5   \n",
       "⎢                                                   m⋅⎝128⋅⎝R₁  - R₂ ⎠⋅⎝R₁  - \n",
       "⎢                        0                          ──────────────────────────\n",
       "⎢                                                                             \n",
       "⎢                                                                        ⎛  3 \n",
       "⎢                                                                    320⋅⎝R₁  \n",
       "⎢                                                                             \n",
       "⎢                                                                             \n",
       "⎢                                                                             \n",
       "⎢                        0                                                  0 \n",
       "⎢                                                                             \n",
       "⎣                                                                             \n",
       "\n",
       "                                        ⎤\n",
       "                                        ⎥\n",
       "                                        ⎥\n",
       "                                0       ⎥\n",
       "                                        ⎥\n",
       "                                        ⎥\n",
       "                                        ⎥\n",
       "                                        ⎥\n",
       "                     2⎞                 ⎥\n",
       "  5⎞      ⎛  4     4⎞ ⎟                 ⎥\n",
       "R₂ ⎠ - 45⋅⎝R₁  - R₂ ⎠ ⎠                 ⎥\n",
       "───────────────────────         0       ⎥\n",
       "      2                                 ⎥\n",
       "    3⎞                                  ⎥\n",
       "- R₂ ⎠                                  ⎥\n",
       "                                        ⎥\n",
       "                             ⎛  5     5⎞⎥\n",
       "                         2⋅m⋅⎝R₁  - R₂ ⎠⎥\n",
       "                         ───────────────⎥\n",
       "                            ⎛  3     3⎞ ⎥\n",
       "                          5⋅⎝R₁  - R₂ ⎠ ⎦"
      ]
     },
     "execution_count": 14,
     "metadata": {},
     "output_type": "execute_result"
    }
   ],
   "source": [
    "Ig = simplify(Io  - m*((rGO.T*rGO)[0]*eye(3)-rGO*rGO.T)); Ig"
   ]
  },
  {
   "cell_type": "markdown",
   "metadata": {
    "collapsed": true
   },
   "source": [
    "## MOI for solid hemisphere:"
   ]
  },
  {
   "cell_type": "code",
   "execution_count": 15,
   "metadata": {},
   "outputs": [
    {
     "data": {
      "image/png": "[encoded data removed]",
      "text/latex": [
       "$$\\left[\\begin{matrix}\\frac{83 R_{2}^{2} m}{320} & 0 & 0\\\\0 & \\frac{83 R_{2}^{2} m}{320} & 0\\\\0 & 0 & \\frac{2 R_{2}^{2} m}{5}\\end{matrix}\\right]$$"
      ],
      "text/plain": [
       "⎡     2                     ⎤\n",
       "⎢83⋅R₂ ⋅m                   ⎥\n",
       "⎢────────     0         0   ⎥\n",
       "⎢  320                      ⎥\n",
       "⎢                           ⎥\n",
       "⎢               2           ⎥\n",
       "⎢          83⋅R₂ ⋅m         ⎥\n",
       "⎢   0      ────────     0   ⎥\n",
       "⎢            320            ⎥\n",
       "⎢                           ⎥\n",
       "⎢                        2  ⎥\n",
       "⎢                    2⋅R₂ ⋅m⎥\n",
       "⎢   0         0      ───────⎥\n",
       "⎣                       5   ⎦"
      ]
     },
     "execution_count": 15,
     "metadata": {},
     "output_type": "execute_result"
    }
   ],
   "source": [
    "Ig.subs(R1,0)"
   ]
  },
  {
   "cell_type": "code",
   "execution_count": null,
   "metadata": {
    "collapsed": true
   },
   "outputs": [],
   "source": []
  }
 ],
 "metadata": {
  "kernelspec": {
   "display_name": "Python 2",
   "language": "python",
   "name": "python2"
  },
  "language_info": {
   "codemirror_mode": {
    "name": "ipython",
    "version": 2
   },
   "file_extension": ".py",
   "mimetype": "text/x-python",
   "name": "python",
   "nbconvert_exporter": "python",
   "pygments_lexer": "ipython2",
   "version": "2.7.15"
  }
 },
 "nbformat": 4,
 "nbformat_minor": 1
}
