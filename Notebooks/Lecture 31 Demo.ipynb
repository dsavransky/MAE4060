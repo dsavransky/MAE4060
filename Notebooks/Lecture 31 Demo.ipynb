{
 "cells": [
  {
   "cell_type": "code",
   "execution_count": 1,
   "metadata": {
    "collapsed": true
   },
   "outputs": [],
   "source": [
    "from miscpy.utils.sympyhelpers import *\n",
    "init_printing()\n",
    "th,psi,thd,psidd,thdd,psidd,Omega,I1,I2,t,M1,C = \\\n",
    "symbols('theta,psi,thetadot,psidot,thetaddot,psiddot,Omega,I_1,I_2,t,M_1,C')\n",
    "diffmap = {th:thd,psi:psid,thd:thdd,psid:psidd}"
   ]
  },
  {
   "cell_type": "markdown",
   "metadata": {},
   "source": [
    "Spinning Symmetric Rigid Body"
   ]
  },
  {
   "cell_type": "code",
   "execution_count": 26,
   "metadata": {
    "collapsed": false
   },
   "outputs": [
    {
     "data": {
      "image/png": "[encoded data removed]",
      "text/latex": [
       "$$\\left[\\begin{matrix}1 & 0 & 0\\\\0 & \\cos{\\left (\\theta \\right )} & \\sin{\\left (\\theta \\right )}\\\\0 & - \\sin{\\left (\\theta \\right )} & \\cos{\\left (\\theta \\right )}\\end{matrix}\\right]$$"
      ],
      "text/plain": [
       "⎡1     0       0   ⎤\n",
       "⎢                  ⎥\n",
       "⎢0  cos(θ)   sin(θ)⎥\n",
       "⎢                  ⎥\n",
       "⎣0  -sin(θ)  cos(θ)⎦"
      ]
     },
     "execution_count": 26,
     "metadata": {},
     "output_type": "execute_result"
    }
   ],
   "source": [
    "bCa = rotMat(1,th);bCa"
   ]
  },
  {
   "cell_type": "code",
   "execution_count": 27,
   "metadata": {
    "collapsed": false
   },
   "outputs": [
    {
     "data": {
      "image/png": "[encoded data removed]",
      "text/latex": [
       "$$\\left[\\begin{matrix}\\dot{\\theta}\\\\\\dot{\\psi} \\sin{\\left (\\theta \\right )}\\\\\\dot{\\psi} \\cos{\\left (\\theta \\right )}\\end{matrix}\\right]$$"
      ],
      "text/plain": [
       "⎡   θ̇    ⎤\n",
       "⎢         ⎥\n",
       "⎢ψ̇⋅sin(θ)⎥\n",
       "⎢         ⎥\n",
       "⎣ψ̇⋅cos(θ)⎦"
      ]
     },
     "execution_count": 27,
     "metadata": {},
     "output_type": "execute_result"
    }
   ],
   "source": [
    "iWb_B = bCa*Matrix([0,0,psid])+ Matrix([thd,0,0]); iWb_B"
   ]
  },
  {
   "cell_type": "code",
   "execution_count": 28,
   "metadata": {
    "collapsed": false
   },
   "outputs": [
    {
     "data": {
      "image/png": "[encoded data removed]",
      "text/latex": [
       "$$\\left[\\begin{matrix}\\dot{\\theta}\\\\\\Omega + \\dot{\\psi} \\sin{\\left (\\theta \\right )}\\\\\\dot{\\psi} \\cos{\\left (\\theta \\right )}\\end{matrix}\\right]$$"
      ],
      "text/plain": [
       "⎡     θ̇      ⎤\n",
       "⎢             ⎥\n",
       "⎢Ω + ψ̇⋅sin(θ)⎥\n",
       "⎢             ⎥\n",
       "⎣  ψ̇⋅cos(θ)  ⎦"
      ]
     },
     "execution_count": 28,
     "metadata": {},
     "output_type": "execute_result"
    }
   ],
   "source": [
    "iWc_B = iWb_B +Matrix([0,Omega,0]); iWc_B"
   ]
  },
  {
   "cell_type": "code",
   "execution_count": 29,
   "metadata": {
    "collapsed": false
   },
   "outputs": [
    {
     "data": {
      "image/png": "[encoded data removed]",
      "text/latex": [
       "$$\\left[\\begin{matrix}I_{1} & 0 & 0\\\\0 & I_{2} & 0\\\\0 & 0 & I_{1}\\end{matrix}\\right]$$"
      ],
      "text/plain": [
       "⎡I₁  0   0 ⎤\n",
       "⎢          ⎥\n",
       "⎢0   I₂  0 ⎥\n",
       "⎢          ⎥\n",
       "⎣0   0   I₁⎦"
      ]
     },
     "execution_count": 29,
     "metadata": {},
     "output_type": "execute_result"
    }
   ],
   "source": [
    "IG_B = diag(I1,I2,I1);IG_B"
   ]
  },
  {
   "cell_type": "code",
   "execution_count": 30,
   "metadata": {
    "collapsed": false
   },
   "outputs": [
    {
     "data": {
      "image/png": "[encoded data removed]",
      "text/latex": [
       "$$\\left[\\begin{matrix}I_{1} \\dot{\\theta}\\\\I_{2} \\left(\\Omega + \\dot{\\psi} \\sin{\\left (\\theta \\right )}\\right)\\\\I_{1} \\dot{\\psi} \\cos{\\left (\\theta \\right )}\\end{matrix}\\right]$$"
      ],
      "text/plain": [
       "⎡      I₁⋅θ̇       ⎤\n",
       "⎢                  ⎥\n",
       "⎢I₂⋅(Ω + ψ̇⋅sin(θ))⎥\n",
       "⎢                  ⎥\n",
       "⎣   I₁⋅ψ̇⋅cos(θ)   ⎦"
      ]
     },
     "execution_count": 30,
     "metadata": {},
     "output_type": "execute_result"
    }
   ],
   "source": [
    "hG_B = IG_B*iWc_B; hG_B"
   ]
  },
  {
   "cell_type": "code",
   "execution_count": 33,
   "metadata": {
    "collapsed": false
   },
   "outputs": [
    {
     "data": {
      "image/png": "[encoded data removed]",
      "text/latex": [
       "$$\\left[\\begin{matrix}I_{1} \\dot{\\psi}^{2} \\sin{\\left (\\theta \\right )} \\cos{\\left (\\theta \\right )} + I_{1} \\ddot{\\theta} - I_{2} \\dot{\\psi} \\left(\\Omega + \\dot{\\psi} \\sin{\\left (\\theta \\right )}\\right) \\cos{\\left (\\theta \\right )}\\\\I_{2} \\left(\\ddot{\\psi} \\sin{\\left (\\theta \\right )} + \\dot{\\psi} \\dot{\\theta} \\cos{\\left (\\theta \\right )}\\right)\\\\I_{1} \\ddot{\\psi} \\cos{\\left (\\theta \\right )} - 2 I_{1} \\dot{\\psi} \\dot{\\theta} \\sin{\\left (\\theta \\right )} + I_{2} \\dot{\\theta} \\left(\\Omega + \\dot{\\psi} \\sin{\\left (\\theta \\right )}\\right)\\end{matrix}\\right]$$"
      ],
      "text/plain": [
       "⎡     2                                                     ⎤\n",
       "⎢I₁⋅ψ̇ ⋅sin(θ)⋅cos(θ) + I₁⋅θ̈ - I₂⋅ψ̇⋅(Ω + ψ̇⋅sin(θ))⋅cos(θ)⎥\n",
       "⎢                                                           ⎥\n",
       "⎢               I₂⋅(ψ̈⋅sin(θ) + ψ̇⋅θ̇⋅cos(θ))               ⎥\n",
       "⎢                                                           ⎥\n",
       "⎣ I₁⋅ψ̈⋅cos(θ) - 2⋅I₁⋅ψ̇⋅θ̇⋅sin(θ) + I₂⋅θ̇⋅(Ω + ψ̇⋅sin(θ))  ⎦"
      ]
     },
     "execution_count": 33,
     "metadata": {},
     "output_type": "execute_result"
    }
   ],
   "source": [
    "dhG_B = difftotalmat(hG_B,t,diffmap) + skew(iWb_B)*hG_B; dhG_B"
   ]
  },
  {
   "cell_type": "code",
   "execution_count": 42,
   "metadata": {
    "collapsed": false
   },
   "outputs": [
    {
     "data": {
      "image/png": "[encoded data removed]",
      "text/latex": [
       "$$\\left[\\begin{matrix}- C I_{2} \\dot{\\psi} \\cos{\\left (\\theta \\right )} + I_{1} \\dot{\\psi}^{2} \\sin{\\left (\\theta \\right )} \\cos{\\left (\\theta \\right )} + I_{1} \\ddot{\\theta}\\\\I_{2} \\left(\\ddot{\\psi} \\sin{\\left (\\theta \\right )} + \\dot{\\psi} \\dot{\\theta} \\cos{\\left (\\theta \\right )}\\right)\\\\C I_{2} \\dot{\\theta} + I_{1} \\ddot{\\psi} \\cos{\\left (\\theta \\right )} - 2 I_{1} \\dot{\\psi} \\dot{\\theta} \\sin{\\left (\\theta \\right )}\\end{matrix}\\right]$$"
      ],
      "text/plain": [
       "⎡                       2                      ⎤\n",
       "⎢-C⋅I₂⋅ψ̇⋅cos(θ) + I₁⋅ψ̇ ⋅sin(θ)⋅cos(θ) + I₁⋅θ̈⎥\n",
       "⎢                                              ⎥\n",
       "⎢        I₂⋅(ψ̈⋅sin(θ) + ψ̇⋅θ̇⋅cos(θ))         ⎥\n",
       "⎢                                              ⎥\n",
       "⎣  C⋅I₂⋅θ̇ + I₁⋅ψ̈⋅cos(θ) - 2⋅I₁⋅ψ̇⋅θ̇⋅sin(θ)  ⎦"
      ]
     },
     "execution_count": 42,
     "metadata": {},
     "output_type": "execute_result"
    }
   ],
   "source": [
    "dhG_B_simp = dhG_B.subs(Omega+psid*sin(th),C); dhG_B_simp"
   ]
  },
  {
   "cell_type": "code",
   "execution_count": 44,
   "metadata": {
    "collapsed": false
   },
   "outputs": [
    {
     "data": {
      "image/png": "[encoded data removed]",
      "text/latex": [
       "$$\\left [ \\frac{1}{I_{1}} \\left(C I_{2} \\dot{\\psi} \\cos{\\left (\\theta \\right )} - \\frac{I_{1} \\dot{\\psi}^{2}}{2} \\sin{\\left (2 \\theta \\right )} - M_{1}\\right)\\right ]$$"
      ],
      "text/plain": [
       "⎡                      2              ⎤\n",
       "⎢                 I₁⋅ψ̇ ⋅sin(2⋅θ)     ⎥\n",
       "⎢C⋅I₂⋅ψ̇⋅cos(θ) - ─────────────── - M₁⎥\n",
       "⎢                        2            ⎥\n",
       "⎢─────────────────────────────────────⎥\n",
       "⎣                  I₁                 ⎦"
      ]
     },
     "execution_count": 44,
     "metadata": {},
     "output_type": "execute_result"
    }
   ],
   "source": [
    "solve(dhG_B_simp[0] + M1,thdd)"
   ]
  },
  {
   "cell_type": "code",
   "execution_count": 45,
   "metadata": {
    "collapsed": false
   },
   "outputs": [
    {
     "data": {
      "image/png": "[encoded data removed]",
      "text/latex": [
       "$$\\left [ \\frac{\\dot{\\theta}}{I_{1}} \\left(- \\frac{C I_{2}}{\\cos{\\left (\\theta \\right )}} + 2 I_{1} \\dot{\\psi} \\tan{\\left (\\theta \\right )}\\right)\\right ]$$"
      ],
      "text/plain": [
       "⎡   ⎛   C⋅I₂                  ⎞⎤\n",
       "⎢θ̇⋅⎜- ────── + 2⋅I₁⋅ψ̇⋅tan(θ)⎟⎥\n",
       "⎢   ⎝  cos(θ)                 ⎠⎥\n",
       "⎢──────────────────────────────⎥\n",
       "⎣              I₁              ⎦"
      ]
     },
     "execution_count": 45,
     "metadata": {},
     "output_type": "execute_result"
    }
   ],
   "source": [
    "solve(dhG_B_simp[2] ,psidd)"
   ]
  },
  {
   "cell_type": "code",
   "execution_count": null,
   "metadata": {
    "collapsed": true
   },
   "outputs": [],
   "source": []
  },
  {
   "cell_type": "code",
   "execution_count": null,
   "metadata": {
    "collapsed": true
   },
   "outputs": [],
   "source": []
  },
  {
   "cell_type": "markdown",
   "metadata": {},
   "source": [
    "Viscous Nutation Damper"
   ]
  },
  {
   "cell_type": "code",
   "execution_count": 53,
   "metadata": {
    "collapsed": true
   },
   "outputs": [],
   "source": [
    "w1,w2,w3,w1d,w2d,w3d,D,O,Od,I1,Iw,Is,It,M1,M2 = \\\n",
    "symbols('omega_1,omega_2,omega_3,omegadot_1,omegadot_2,\\\n",
    "omegadot_3,D,Omega,Omegadot,I_1,I_W,I_S,I_T,M1,M2')\n",
    "diffmap = {w1:w1d,w2:w2d,w3:w3d,O:Od}"
   ]
  },
  {
   "cell_type": "code",
   "execution_count": 54,
   "metadata": {
    "collapsed": false
   },
   "outputs": [
    {
     "data": {
      "image/png": "[encoded data removed]",
      "text/latex": [
       "$$\\left ( \\left[\\begin{matrix}I_{T} & 0 & 0\\\\0 & I_{S} & 0\\\\0 & 0 & I_{T}\\end{matrix}\\right], \\quad \\left[\\begin{matrix}I_{1} & 0 & 0\\\\0 & I_{1} & 0\\\\0 & 0 & I_{W}\\end{matrix}\\right]\\right )$$"
      ],
      "text/plain": [
       "⎛⎡I_T   0    0 ⎤, ⎡I₁  0    0 ⎤⎞\n",
       "⎜⎢             ⎥  ⎢           ⎥⎟\n",
       "⎜⎢ 0   I_S   0 ⎥  ⎢0   I₁   0 ⎥⎟\n",
       "⎜⎢             ⎥  ⎢           ⎥⎟\n",
       "⎝⎣ 0    0   I_T⎦  ⎣0   0   I_W⎦⎠"
      ]
     },
     "execution_count": 54,
     "metadata": {},
     "output_type": "execute_result"
    }
   ],
   "source": [
    "Isat_B = diag(It,Is,It)\n",
    "Iwheel_B = diag(I1,I1,Iw)\n",
    "Isat_B,Iwheel_B"
   ]
  },
  {
   "cell_type": "code",
   "execution_count": 55,
   "metadata": {
    "collapsed": false
   },
   "outputs": [
    {
     "data": {
      "image/png": "[encoded data removed]",
      "text/latex": [
       "$$\\left ( \\left[\\begin{matrix}\\omega_{1}\\\\\\omega_{2}\\\\\\omega_{3}\\end{matrix}\\right], \\quad \\left[\\begin{matrix}0\\\\0\\\\\\Omega\\end{matrix}\\right]\\right )$$"
      ],
      "text/plain": [
       "⎛⎡ω₁⎤, ⎡0⎤⎞\n",
       "⎜⎢  ⎥  ⎢ ⎥⎟\n",
       "⎜⎢ω₂⎥  ⎢0⎥⎟\n",
       "⎜⎢  ⎥  ⎢ ⎥⎟\n",
       "⎝⎣ω₃⎦  ⎣Ω⎦⎠"
      ]
     },
     "execution_count": 55,
     "metadata": {},
     "output_type": "execute_result"
    }
   ],
   "source": [
    "iWb = Matrix([w1,w2,w3])\n",
    "bWc = Matrix([0,0,O])\n",
    "iWb,bWc"
   ]
  },
  {
   "cell_type": "code",
   "execution_count": 56,
   "metadata": {
    "collapsed": false
   },
   "outputs": [
    {
     "data": {
      "image/png": "[encoded data removed]",
      "text/latex": [
       "$$\\left[\\begin{matrix}I_{T} \\omega_{1}\\\\I_{S} \\omega_{2}\\\\I_{T} \\omega_{3} + I_{W} \\Omega\\end{matrix}\\right]$$"
      ],
      "text/plain": [
       "⎡    I_T⋅ω₁    ⎤\n",
       "⎢              ⎥\n",
       "⎢    I_S⋅ω₂    ⎥\n",
       "⎢              ⎥\n",
       "⎣I_T⋅ω₃ + I_W⋅Ω⎦"
      ]
     },
     "execution_count": 56,
     "metadata": {},
     "output_type": "execute_result"
    }
   ],
   "source": [
    "hG_sat = Isat_B*iWb + Iwheel_B*bWc\n",
    "hG_sat"
   ]
  },
  {
   "cell_type": "code",
   "execution_count": 60,
   "metadata": {
    "collapsed": false
   },
   "outputs": [
    {
     "data": {
      "image/png": "[encoded data removed]",
      "text/latex": [
       "$$\\left[\\begin{matrix}I_{1} \\omega_{1}\\\\I_{1} \\omega_{2}\\\\I_{W} \\left(\\Omega + \\omega_{3}\\right)\\end{matrix}\\right]$$"
      ],
      "text/plain": [
       "⎡   I₁⋅ω₁    ⎤\n",
       "⎢            ⎥\n",
       "⎢   I₁⋅ω₂    ⎥\n",
       "⎢            ⎥\n",
       "⎣I_W⋅(Ω + ω₃)⎦"
      ]
     },
     "execution_count": 60,
     "metadata": {},
     "output_type": "execute_result"
    }
   ],
   "source": [
    "hG_wheel = Iwheel_B*(bWc+iWb); hG_wheel"
   ]
  },
  {
   "cell_type": "code",
   "execution_count": 62,
   "metadata": {
    "collapsed": false
   },
   "outputs": [
    {
     "data": {
      "image/png": "[encoded data removed]",
      "text/latex": [
       "$$\\left[\\begin{matrix}- I_{S} \\omega_{2} \\omega_{3} + I_{T} \\dot{\\omega}_{1} + \\omega_{2} \\left(I_{T} \\omega_{3} + I_{W} \\Omega\\right)\\\\I_{S} \\dot{\\omega}_{2} + I_{T} \\omega_{1} \\omega_{3} - \\omega_{1} \\left(I_{T} \\omega_{3} + I_{W} \\Omega\\right)\\\\I_{S} \\omega_{1} \\omega_{2} - I_{T} \\omega_{1} \\omega_{2} + I_{T} \\dot{\\omega}_{3} + I_{W} \\dot{\\Omega}\\end{matrix}\\right]$$"
      ],
      "text/plain": [
       "⎡-I_S⋅ω₂⋅ω₃ + I_T⋅ω̇₁ + ω₂⋅(I_T⋅ω₃ + I_W⋅Ω)⎤\n",
       "⎢                                          ⎥\n",
       "⎢I_S⋅ω̇₂ + I_T⋅ω₁⋅ω₃ - ω₁⋅(I_T⋅ω₃ + I_W⋅Ω) ⎥\n",
       "⎢                                          ⎥\n",
       "⎣ I_S⋅ω₁⋅ω₂ - I_T⋅ω₁⋅ω₂ + I_T⋅ω̇₃ + I_W⋅Ω̇ ⎦"
      ]
     },
     "execution_count": 62,
     "metadata": {},
     "output_type": "execute_result"
    }
   ],
   "source": [
    "eq1 = difftotalmat(hG_sat,t,diffmap) + skew(iWb)*hG_sat;eq1"
   ]
  },
  {
   "cell_type": "code",
   "execution_count": 63,
   "metadata": {
    "collapsed": false
   },
   "outputs": [
    {
     "data": {
      "image/png": "[encoded data removed]",
      "text/latex": [
       "$$\\left[\\begin{matrix}- I_{1} \\omega_{2} \\omega_{3} + I_{1} \\dot{\\omega}_{1} + I_{W} \\omega_{2} \\left(\\Omega + \\omega_{3}\\right) - M_{1}\\\\I_{1} \\omega_{1} \\omega_{3} + I_{1} \\dot{\\omega}_{2} - I_{W} \\omega_{1} \\left(\\Omega + \\omega_{3}\\right) - M_{2}\\\\D \\Omega + I_{W} \\left(\\dot{\\Omega} + \\dot{\\omega}_{3}\\right)\\end{matrix}\\right]$$"
      ],
      "text/plain": [
       "⎡-I₁⋅ω₂⋅ω₃ + I₁⋅ω̇₁ + I_W⋅ω₂⋅(Ω + ω₃) - M₁⎤\n",
       "⎢                                         ⎥\n",
       "⎢I₁⋅ω₁⋅ω₃ + I₁⋅ω̇₂ - I_W⋅ω₁⋅(Ω + ω₃) - M₂ ⎥\n",
       "⎢                                         ⎥\n",
       "⎣          D⋅Ω + I_W⋅(Ω̇ + ω̇₃)           ⎦"
      ]
     },
     "execution_count": 63,
     "metadata": {},
     "output_type": "execute_result"
    }
   ],
   "source": [
    "eq2 = difftotalmat(hG_wheel,t,diffmap) + skew(iWb)*hG_wheel - Matrix([M1,M2,-D*O]);eq2"
   ]
  },
  {
   "cell_type": "code",
   "execution_count": 66,
   "metadata": {
    "collapsed": false
   },
   "outputs": [
    {
     "data": {
      "image/png": "[encoded data removed]",
      "text/latex": [
       "$$\\left \\{ \\dot{\\Omega} : \\frac{1}{I_{W} \\left(I_{T} - I_{W}\\right)} \\left(- D I_{T} \\Omega + I_{W} \\omega_{1} \\omega_{2} \\left(I_{S} - I_{T}\\right)\\right), \\quad \\dot{\\omega}_{1} : \\frac{\\omega_{2}}{I_{T}} \\left(I_{S} \\omega_{3} - I_{T} \\omega_{3} - I_{W} \\Omega\\right), \\quad \\dot{\\omega}_{2} : \\frac{I_{W} \\Omega}{I_{S}} \\omega_{1}, \\quad \\dot{\\omega}_{3} : \\frac{1}{I_{T} - I_{W}} \\left(D \\Omega - \\omega_{1} \\omega_{2} \\left(I_{S} - I_{T}\\right)\\right)\\right \\}$$"
      ],
      "text/plain": [
       "⎧    -D⋅I_T⋅Ω + I_W⋅ω₁⋅ω₂⋅(I_S - I_T)       ω₂⋅(I_S⋅ω₃ - I_T⋅ω₃ - I_W⋅Ω)      \n",
       "⎨Ω̇: ────────────────────────────────, ω̇₁: ────────────────────────────, ω̇₂:\n",
       "⎩            I_W⋅(I_T - I_W)                            I_T                   \n",
       "\n",
       " I_W⋅Ω⋅ω₁       D⋅Ω - ω₁⋅ω₂⋅(I_S - I_T)⎫\n",
       " ────────, ω̇₃: ───────────────────────⎬\n",
       "   I_S                 I_T - I_W       ⎭"
      ]
     },
     "execution_count": 66,
     "metadata": {},
     "output_type": "execute_result"
    }
   ],
   "source": [
    "simplify(solve((eq1,eq2[2]),(w1d,w2d,w3d,Od)))"
   ]
  },
  {
   "cell_type": "code",
   "execution_count": null,
   "metadata": {
    "collapsed": true
   },
   "outputs": [],
   "source": []
  }
 ],
 "metadata": {
  "kernelspec": {
   "display_name": "Python 2",
   "language": "python",
   "name": "python2"
  },
  "language_info": {
   "codemirror_mode": {
    "name": "ipython",
    "version": 2
   },
   "file_extension": ".py",
   "mimetype": "text/x-python",
   "name": "python",
   "nbconvert_exporter": "python",
   "pygments_lexer": "ipython2",
   "version": "2.7.12"
  }
 },
 "nbformat": 4,
 "nbformat_minor": 0
}
